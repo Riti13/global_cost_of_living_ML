{
  "nbformat": 4,
  "nbformat_minor": 0,
  "metadata": {
    "colab": {
      "provenance": [],
      "authorship_tag": "ABX9TyMozzZ0+ACj7nFyr3BJ6H9o",
      "include_colab_link": true
    },
    "kernelspec": {
      "name": "python3",
      "display_name": "Python 3"
    },
    "language_info": {
      "name": "python"
    }
  },
  "cells": [
    {
      "cell_type": "markdown",
      "metadata": {
        "id": "view-in-github",
        "colab_type": "text"
      },
      "source": [
        "<a href=\"https://colab.research.google.com/github/Riti13/global_cost_of_living_ML/blob/main/cost_of_living_project.ipynb\" target=\"_parent\"><img src=\"https://colab.research.google.com/assets/colab-badge.svg\" alt=\"Open In Colab\"/></a>"
      ]
    },
    {
      "cell_type": "markdown",
      "source": [
        "#REGRESSION\n",
        "\n",
        "1. MULTIPLE REGRESSION\n",
        "\n"
      ],
      "metadata": {
        "id": "OYeLBo4MMiAJ"
      }
    },
    {
      "cell_type": "code",
      "source": [
        "import pandas as pd\n",
        "import numpy as np\n",
        "import matplotlib.pyplot as plt\n",
        "data=pd.read_csv('/content/cost-of-living.csv')\n",
        "data"
      ],
      "metadata": {
        "colab": {
          "base_uri": "https://localhost:8080/",
          "height": 539
        },
        "id": "g1omXcdQN-uc",
        "outputId": "21b77bbb-48e8-4f8b-ee69-d89fb599f3bd"
      },
      "execution_count": null,
      "outputs": [
        {
          "output_type": "execute_result",
          "data": {
            "text/plain": [
              "      Unnamed: 0                city      country     x1     x2     x3     x4  \\\n",
              "0              0               Delhi        India   4.90  22.04   4.28   1.84   \n",
              "1              1            Shanghai        China   5.59  40.51   5.59   1.12   \n",
              "2              2             Jakarta    Indonesia   2.54  22.25   3.50   2.02   \n",
              "3              3              Manila  Philippines   3.54  27.40   3.54   1.24   \n",
              "4              4               Seoul  South Korea   7.16  52.77   6.03   3.02   \n",
              "...          ...                 ...          ...    ...    ...    ...    ...   \n",
              "4869        4869        Peterborough    Australia    NaN    NaN    NaN    NaN   \n",
              "4870        4870          Georgetown    Australia    NaN    NaN    NaN    NaN   \n",
              "4871        4871  Ixtapa Zihuatanejo       Mexico   5.19  31.13  12.97   0.99   \n",
              "4872        4872             Iqaluit       Canada  29.78  74.61  13.77   6.70   \n",
              "4873        4873              Neiafu        Tonga    NaN  29.53  10.55  10.55   \n",
              "\n",
              "        x5    x6    x7  ...     x47      x48     x49      x50      x51  \\\n",
              "0     3.67  1.78  0.48  ...   36.26   223.87  133.38   596.16   325.82   \n",
              "1     4.19  3.96  0.52  ...  121.19  1080.07  564.30  2972.57  1532.23   \n",
              "2     3.18  2.19  0.59  ...   80.32   482.85  270.15  1117.69   584.37   \n",
              "3     1.90  2.91  0.93  ...   61.82   559.52  281.78  1754.40   684.81   \n",
              "4     4.52  3.86  1.46  ...  108.30   809.83  583.60  2621.05  1683.74   \n",
              "...    ...   ...   ...  ...     ...      ...     ...      ...      ...   \n",
              "4869   NaN   NaN   NaN  ...     NaN      NaN     NaN      NaN      NaN   \n",
              "4870   NaN   NaN   NaN  ...     NaN      NaN     NaN      NaN      NaN   \n",
              "4871   NaN  1.82  0.62  ...  103.78   415.11  259.44   518.89   415.11   \n",
              "4872  8.93  3.72  3.54  ...     NaN      NaN     NaN  2978.11  2978.11   \n",
              "4873   NaN   NaN  2.11  ...     NaN      NaN     NaN      NaN      NaN   \n",
              "\n",
              "           x52       x53      x54   x55  data_quality  \n",
              "0      2619.46   1068.90   586.35  7.96             1  \n",
              "1     17333.09   9174.88  1382.83  5.01             1  \n",
              "2      2694.05   1269.44   483.19  9.15             1  \n",
              "3      3536.04   2596.44   419.02  7.80             1  \n",
              "4     21847.94  10832.90  2672.23  3.47             1  \n",
              "...        ...       ...      ...   ...           ...  \n",
              "4869       NaN       NaN      NaN   NaN             0  \n",
              "4870       NaN       NaN      NaN   NaN             0  \n",
              "4871       NaN       NaN      NaN   NaN             0  \n",
              "4872       NaN       NaN      NaN  6.53             0  \n",
              "4873       NaN       NaN      NaN   NaN             0  \n",
              "\n",
              "[4874 rows x 59 columns]"
            ],
            "text/html": [
              "\n",
              "\n",
              "  <div id=\"df-2cfecac2-4d3c-4b3a-80da-5e0469c2b683\">\n",
              "    <div class=\"colab-df-container\">\n",
              "      <div>\n",
              "<style scoped>\n",
              "    .dataframe tbody tr th:only-of-type {\n",
              "        vertical-align: middle;\n",
              "    }\n",
              "\n",
              "    .dataframe tbody tr th {\n",
              "        vertical-align: top;\n",
              "    }\n",
              "\n",
              "    .dataframe thead th {\n",
              "        text-align: right;\n",
              "    }\n",
              "</style>\n",
              "<table border=\"1\" class=\"dataframe\">\n",
              "  <thead>\n",
              "    <tr style=\"text-align: right;\">\n",
              "      <th></th>\n",
              "      <th>Unnamed: 0</th>\n",
              "      <th>city</th>\n",
              "      <th>country</th>\n",
              "      <th>x1</th>\n",
              "      <th>x2</th>\n",
              "      <th>x3</th>\n",
              "      <th>x4</th>\n",
              "      <th>x5</th>\n",
              "      <th>x6</th>\n",
              "      <th>x7</th>\n",
              "      <th>...</th>\n",
              "      <th>x47</th>\n",
              "      <th>x48</th>\n",
              "      <th>x49</th>\n",
              "      <th>x50</th>\n",
              "      <th>x51</th>\n",
              "      <th>x52</th>\n",
              "      <th>x53</th>\n",
              "      <th>x54</th>\n",
              "      <th>x55</th>\n",
              "      <th>data_quality</th>\n",
              "    </tr>\n",
              "  </thead>\n",
              "  <tbody>\n",
              "    <tr>\n",
              "      <th>0</th>\n",
              "      <td>0</td>\n",
              "      <td>Delhi</td>\n",
              "      <td>India</td>\n",
              "      <td>4.90</td>\n",
              "      <td>22.04</td>\n",
              "      <td>4.28</td>\n",
              "      <td>1.84</td>\n",
              "      <td>3.67</td>\n",
              "      <td>1.78</td>\n",
              "      <td>0.48</td>\n",
              "      <td>...</td>\n",
              "      <td>36.26</td>\n",
              "      <td>223.87</td>\n",
              "      <td>133.38</td>\n",
              "      <td>596.16</td>\n",
              "      <td>325.82</td>\n",
              "      <td>2619.46</td>\n",
              "      <td>1068.90</td>\n",
              "      <td>586.35</td>\n",
              "      <td>7.96</td>\n",
              "      <td>1</td>\n",
              "    </tr>\n",
              "    <tr>\n",
              "      <th>1</th>\n",
              "      <td>1</td>\n",
              "      <td>Shanghai</td>\n",
              "      <td>China</td>\n",
              "      <td>5.59</td>\n",
              "      <td>40.51</td>\n",
              "      <td>5.59</td>\n",
              "      <td>1.12</td>\n",
              "      <td>4.19</td>\n",
              "      <td>3.96</td>\n",
              "      <td>0.52</td>\n",
              "      <td>...</td>\n",
              "      <td>121.19</td>\n",
              "      <td>1080.07</td>\n",
              "      <td>564.30</td>\n",
              "      <td>2972.57</td>\n",
              "      <td>1532.23</td>\n",
              "      <td>17333.09</td>\n",
              "      <td>9174.88</td>\n",
              "      <td>1382.83</td>\n",
              "      <td>5.01</td>\n",
              "      <td>1</td>\n",
              "    </tr>\n",
              "    <tr>\n",
              "      <th>2</th>\n",
              "      <td>2</td>\n",
              "      <td>Jakarta</td>\n",
              "      <td>Indonesia</td>\n",
              "      <td>2.54</td>\n",
              "      <td>22.25</td>\n",
              "      <td>3.50</td>\n",
              "      <td>2.02</td>\n",
              "      <td>3.18</td>\n",
              "      <td>2.19</td>\n",
              "      <td>0.59</td>\n",
              "      <td>...</td>\n",
              "      <td>80.32</td>\n",
              "      <td>482.85</td>\n",
              "      <td>270.15</td>\n",
              "      <td>1117.69</td>\n",
              "      <td>584.37</td>\n",
              "      <td>2694.05</td>\n",
              "      <td>1269.44</td>\n",
              "      <td>483.19</td>\n",
              "      <td>9.15</td>\n",
              "      <td>1</td>\n",
              "    </tr>\n",
              "    <tr>\n",
              "      <th>3</th>\n",
              "      <td>3</td>\n",
              "      <td>Manila</td>\n",
              "      <td>Philippines</td>\n",
              "      <td>3.54</td>\n",
              "      <td>27.40</td>\n",
              "      <td>3.54</td>\n",
              "      <td>1.24</td>\n",
              "      <td>1.90</td>\n",
              "      <td>2.91</td>\n",
              "      <td>0.93</td>\n",
              "      <td>...</td>\n",
              "      <td>61.82</td>\n",
              "      <td>559.52</td>\n",
              "      <td>281.78</td>\n",
              "      <td>1754.40</td>\n",
              "      <td>684.81</td>\n",
              "      <td>3536.04</td>\n",
              "      <td>2596.44</td>\n",
              "      <td>419.02</td>\n",
              "      <td>7.80</td>\n",
              "      <td>1</td>\n",
              "    </tr>\n",
              "    <tr>\n",
              "      <th>4</th>\n",
              "      <td>4</td>\n",
              "      <td>Seoul</td>\n",
              "      <td>South Korea</td>\n",
              "      <td>7.16</td>\n",
              "      <td>52.77</td>\n",
              "      <td>6.03</td>\n",
              "      <td>3.02</td>\n",
              "      <td>4.52</td>\n",
              "      <td>3.86</td>\n",
              "      <td>1.46</td>\n",
              "      <td>...</td>\n",
              "      <td>108.30</td>\n",
              "      <td>809.83</td>\n",
              "      <td>583.60</td>\n",
              "      <td>2621.05</td>\n",
              "      <td>1683.74</td>\n",
              "      <td>21847.94</td>\n",
              "      <td>10832.90</td>\n",
              "      <td>2672.23</td>\n",
              "      <td>3.47</td>\n",
              "      <td>1</td>\n",
              "    </tr>\n",
              "    <tr>\n",
              "      <th>...</th>\n",
              "      <td>...</td>\n",
              "      <td>...</td>\n",
              "      <td>...</td>\n",
              "      <td>...</td>\n",
              "      <td>...</td>\n",
              "      <td>...</td>\n",
              "      <td>...</td>\n",
              "      <td>...</td>\n",
              "      <td>...</td>\n",
              "      <td>...</td>\n",
              "      <td>...</td>\n",
              "      <td>...</td>\n",
              "      <td>...</td>\n",
              "      <td>...</td>\n",
              "      <td>...</td>\n",
              "      <td>...</td>\n",
              "      <td>...</td>\n",
              "      <td>...</td>\n",
              "      <td>...</td>\n",
              "      <td>...</td>\n",
              "      <td>...</td>\n",
              "    </tr>\n",
              "    <tr>\n",
              "      <th>4869</th>\n",
              "      <td>4869</td>\n",
              "      <td>Peterborough</td>\n",
              "      <td>Australia</td>\n",
              "      <td>NaN</td>\n",
              "      <td>NaN</td>\n",
              "      <td>NaN</td>\n",
              "      <td>NaN</td>\n",
              "      <td>NaN</td>\n",
              "      <td>NaN</td>\n",
              "      <td>NaN</td>\n",
              "      <td>...</td>\n",
              "      <td>NaN</td>\n",
              "      <td>NaN</td>\n",
              "      <td>NaN</td>\n",
              "      <td>NaN</td>\n",
              "      <td>NaN</td>\n",
              "      <td>NaN</td>\n",
              "      <td>NaN</td>\n",
              "      <td>NaN</td>\n",
              "      <td>NaN</td>\n",
              "      <td>0</td>\n",
              "    </tr>\n",
              "    <tr>\n",
              "      <th>4870</th>\n",
              "      <td>4870</td>\n",
              "      <td>Georgetown</td>\n",
              "      <td>Australia</td>\n",
              "      <td>NaN</td>\n",
              "      <td>NaN</td>\n",
              "      <td>NaN</td>\n",
              "      <td>NaN</td>\n",
              "      <td>NaN</td>\n",
              "      <td>NaN</td>\n",
              "      <td>NaN</td>\n",
              "      <td>...</td>\n",
              "      <td>NaN</td>\n",
              "      <td>NaN</td>\n",
              "      <td>NaN</td>\n",
              "      <td>NaN</td>\n",
              "      <td>NaN</td>\n",
              "      <td>NaN</td>\n",
              "      <td>NaN</td>\n",
              "      <td>NaN</td>\n",
              "      <td>NaN</td>\n",
              "      <td>0</td>\n",
              "    </tr>\n",
              "    <tr>\n",
              "      <th>4871</th>\n",
              "      <td>4871</td>\n",
              "      <td>Ixtapa Zihuatanejo</td>\n",
              "      <td>Mexico</td>\n",
              "      <td>5.19</td>\n",
              "      <td>31.13</td>\n",
              "      <td>12.97</td>\n",
              "      <td>0.99</td>\n",
              "      <td>NaN</td>\n",
              "      <td>1.82</td>\n",
              "      <td>0.62</td>\n",
              "      <td>...</td>\n",
              "      <td>103.78</td>\n",
              "      <td>415.11</td>\n",
              "      <td>259.44</td>\n",
              "      <td>518.89</td>\n",
              "      <td>415.11</td>\n",
              "      <td>NaN</td>\n",
              "      <td>NaN</td>\n",
              "      <td>NaN</td>\n",
              "      <td>NaN</td>\n",
              "      <td>0</td>\n",
              "    </tr>\n",
              "    <tr>\n",
              "      <th>4872</th>\n",
              "      <td>4872</td>\n",
              "      <td>Iqaluit</td>\n",
              "      <td>Canada</td>\n",
              "      <td>29.78</td>\n",
              "      <td>74.61</td>\n",
              "      <td>13.77</td>\n",
              "      <td>6.70</td>\n",
              "      <td>8.93</td>\n",
              "      <td>3.72</td>\n",
              "      <td>3.54</td>\n",
              "      <td>...</td>\n",
              "      <td>NaN</td>\n",
              "      <td>NaN</td>\n",
              "      <td>NaN</td>\n",
              "      <td>2978.11</td>\n",
              "      <td>2978.11</td>\n",
              "      <td>NaN</td>\n",
              "      <td>NaN</td>\n",
              "      <td>NaN</td>\n",
              "      <td>6.53</td>\n",
              "      <td>0</td>\n",
              "    </tr>\n",
              "    <tr>\n",
              "      <th>4873</th>\n",
              "      <td>4873</td>\n",
              "      <td>Neiafu</td>\n",
              "      <td>Tonga</td>\n",
              "      <td>NaN</td>\n",
              "      <td>29.53</td>\n",
              "      <td>10.55</td>\n",
              "      <td>10.55</td>\n",
              "      <td>NaN</td>\n",
              "      <td>NaN</td>\n",
              "      <td>2.11</td>\n",
              "      <td>...</td>\n",
              "      <td>NaN</td>\n",
              "      <td>NaN</td>\n",
              "      <td>NaN</td>\n",
              "      <td>NaN</td>\n",
              "      <td>NaN</td>\n",
              "      <td>NaN</td>\n",
              "      <td>NaN</td>\n",
              "      <td>NaN</td>\n",
              "      <td>NaN</td>\n",
              "      <td>0</td>\n",
              "    </tr>\n",
              "  </tbody>\n",
              "</table>\n",
              "<p>4874 rows × 59 columns</p>\n",
              "</div>\n",
              "      <button class=\"colab-df-convert\" onclick=\"convertToInteractive('df-2cfecac2-4d3c-4b3a-80da-5e0469c2b683')\"\n",
              "              title=\"Convert this dataframe to an interactive table.\"\n",
              "              style=\"display:none;\">\n",
              "\n",
              "  <svg xmlns=\"http://www.w3.org/2000/svg\" height=\"24px\"viewBox=\"0 0 24 24\"\n",
              "       width=\"24px\">\n",
              "    <path d=\"M0 0h24v24H0V0z\" fill=\"none\"/>\n",
              "    <path d=\"M18.56 5.44l.94 2.06.94-2.06 2.06-.94-2.06-.94-.94-2.06-.94 2.06-2.06.94zm-11 1L8.5 8.5l.94-2.06 2.06-.94-2.06-.94L8.5 2.5l-.94 2.06-2.06.94zm10 10l.94 2.06.94-2.06 2.06-.94-2.06-.94-.94-2.06-.94 2.06-2.06.94z\"/><path d=\"M17.41 7.96l-1.37-1.37c-.4-.4-.92-.59-1.43-.59-.52 0-1.04.2-1.43.59L10.3 9.45l-7.72 7.72c-.78.78-.78 2.05 0 2.83L4 21.41c.39.39.9.59 1.41.59.51 0 1.02-.2 1.41-.59l7.78-7.78 2.81-2.81c.8-.78.8-2.07 0-2.86zM5.41 20L4 18.59l7.72-7.72 1.47 1.35L5.41 20z\"/>\n",
              "  </svg>\n",
              "      </button>\n",
              "\n",
              "\n",
              "\n",
              "    <div id=\"df-914cf868-b0ff-4ae8-b22c-b7d82f05c9f8\">\n",
              "      <button class=\"colab-df-quickchart\" onclick=\"quickchart('df-914cf868-b0ff-4ae8-b22c-b7d82f05c9f8')\"\n",
              "              title=\"Suggest charts.\"\n",
              "              style=\"display:none;\">\n",
              "\n",
              "<svg xmlns=\"http://www.w3.org/2000/svg\" height=\"24px\"viewBox=\"0 0 24 24\"\n",
              "     width=\"24px\">\n",
              "    <g>\n",
              "        <path d=\"M19 3H5c-1.1 0-2 .9-2 2v14c0 1.1.9 2 2 2h14c1.1 0 2-.9 2-2V5c0-1.1-.9-2-2-2zM9 17H7v-7h2v7zm4 0h-2V7h2v10zm4 0h-2v-4h2v4z\"/>\n",
              "    </g>\n",
              "</svg>\n",
              "      </button>\n",
              "    </div>\n",
              "\n",
              "<style>\n",
              "  .colab-df-quickchart {\n",
              "    background-color: #E8F0FE;\n",
              "    border: none;\n",
              "    border-radius: 50%;\n",
              "    cursor: pointer;\n",
              "    display: none;\n",
              "    fill: #1967D2;\n",
              "    height: 32px;\n",
              "    padding: 0 0 0 0;\n",
              "    width: 32px;\n",
              "  }\n",
              "\n",
              "  .colab-df-quickchart:hover {\n",
              "    background-color: #E2EBFA;\n",
              "    box-shadow: 0px 1px 2px rgba(60, 64, 67, 0.3), 0px 1px 3px 1px rgba(60, 64, 67, 0.15);\n",
              "    fill: #174EA6;\n",
              "  }\n",
              "\n",
              "  [theme=dark] .colab-df-quickchart {\n",
              "    background-color: #3B4455;\n",
              "    fill: #D2E3FC;\n",
              "  }\n",
              "\n",
              "  [theme=dark] .colab-df-quickchart:hover {\n",
              "    background-color: #434B5C;\n",
              "    box-shadow: 0px 1px 3px 1px rgba(0, 0, 0, 0.15);\n",
              "    filter: drop-shadow(0px 1px 2px rgba(0, 0, 0, 0.3));\n",
              "    fill: #FFFFFF;\n",
              "  }\n",
              "</style>\n",
              "\n",
              "    <script>\n",
              "      async function quickchart(key) {\n",
              "        const containerElement = document.querySelector('#' + key);\n",
              "        const charts = await google.colab.kernel.invokeFunction(\n",
              "            'suggestCharts', [key], {});\n",
              "      }\n",
              "    </script>\n",
              "\n",
              "      <script>\n",
              "\n",
              "function displayQuickchartButton(domScope) {\n",
              "  let quickchartButtonEl =\n",
              "    domScope.querySelector('#df-914cf868-b0ff-4ae8-b22c-b7d82f05c9f8 button.colab-df-quickchart');\n",
              "  quickchartButtonEl.style.display =\n",
              "    google.colab.kernel.accessAllowed ? 'block' : 'none';\n",
              "}\n",
              "\n",
              "        displayQuickchartButton(document);\n",
              "      </script>\n",
              "      <style>\n",
              "    .colab-df-container {\n",
              "      display:flex;\n",
              "      flex-wrap:wrap;\n",
              "      gap: 12px;\n",
              "    }\n",
              "\n",
              "    .colab-df-convert {\n",
              "      background-color: #E8F0FE;\n",
              "      border: none;\n",
              "      border-radius: 50%;\n",
              "      cursor: pointer;\n",
              "      display: none;\n",
              "      fill: #1967D2;\n",
              "      height: 32px;\n",
              "      padding: 0 0 0 0;\n",
              "      width: 32px;\n",
              "    }\n",
              "\n",
              "    .colab-df-convert:hover {\n",
              "      background-color: #E2EBFA;\n",
              "      box-shadow: 0px 1px 2px rgba(60, 64, 67, 0.3), 0px 1px 3px 1px rgba(60, 64, 67, 0.15);\n",
              "      fill: #174EA6;\n",
              "    }\n",
              "\n",
              "    [theme=dark] .colab-df-convert {\n",
              "      background-color: #3B4455;\n",
              "      fill: #D2E3FC;\n",
              "    }\n",
              "\n",
              "    [theme=dark] .colab-df-convert:hover {\n",
              "      background-color: #434B5C;\n",
              "      box-shadow: 0px 1px 3px 1px rgba(0, 0, 0, 0.15);\n",
              "      filter: drop-shadow(0px 1px 2px rgba(0, 0, 0, 0.3));\n",
              "      fill: #FFFFFF;\n",
              "    }\n",
              "  </style>\n",
              "\n",
              "      <script>\n",
              "        const buttonEl =\n",
              "          document.querySelector('#df-2cfecac2-4d3c-4b3a-80da-5e0469c2b683 button.colab-df-convert');\n",
              "        buttonEl.style.display =\n",
              "          google.colab.kernel.accessAllowed ? 'block' : 'none';\n",
              "\n",
              "        async function convertToInteractive(key) {\n",
              "          const element = document.querySelector('#df-2cfecac2-4d3c-4b3a-80da-5e0469c2b683');\n",
              "          const dataTable =\n",
              "            await google.colab.kernel.invokeFunction('convertToInteractive',\n",
              "                                                     [key], {});\n",
              "          if (!dataTable) return;\n",
              "\n",
              "          const docLinkHtml = 'Like what you see? Visit the ' +\n",
              "            '<a target=\"_blank\" href=https://colab.research.google.com/notebooks/data_table.ipynb>data table notebook</a>'\n",
              "            + ' to learn more about interactive tables.';\n",
              "          element.innerHTML = '';\n",
              "          dataTable['output_type'] = 'display_data';\n",
              "          await google.colab.output.renderOutput(dataTable, element);\n",
              "          const docLink = document.createElement('div');\n",
              "          docLink.innerHTML = docLinkHtml;\n",
              "          element.appendChild(docLink);\n",
              "        }\n",
              "      </script>\n",
              "    </div>\n",
              "  </div>\n"
            ]
          },
          "metadata": {},
          "execution_count": 1
        }
      ]
    },
    {
      "cell_type": "code",
      "source": [
        "data.info()"
      ],
      "metadata": {
        "colab": {
          "base_uri": "https://localhost:8080/"
        },
        "id": "HDYLVrTZP9KW",
        "outputId": "623877fa-88e2-4a26-bea9-d1e2dc9eed05"
      },
      "execution_count": null,
      "outputs": [
        {
          "output_type": "stream",
          "name": "stdout",
          "text": [
            "<class 'pandas.core.frame.DataFrame'>\n",
            "RangeIndex: 4874 entries, 0 to 4873\n",
            "Data columns (total 59 columns):\n",
            " #   Column        Non-Null Count  Dtype  \n",
            "---  ------        --------------  -----  \n",
            " 0   Unnamed: 0    4874 non-null   int64  \n",
            " 1   city          4874 non-null   object \n",
            " 2   country       4874 non-null   object \n",
            " 3   x1            4449 non-null   float64\n",
            " 4   x2            4432 non-null   float64\n",
            " 5   x3            4552 non-null   float64\n",
            " 6   x4            4385 non-null   float64\n",
            " 7   x5            4445 non-null   float64\n",
            " 8   x6            4540 non-null   float64\n",
            " 9   x7            4438 non-null   float64\n",
            " 10  x8            4571 non-null   float64\n",
            " 11  x9            4494 non-null   float64\n",
            " 12  x10           4457 non-null   float64\n",
            " 13  x11           4538 non-null   float64\n",
            " 14  x12           4369 non-null   float64\n",
            " 15  x13           4393 non-null   float64\n",
            " 16  x14           4318 non-null   float64\n",
            " 17  x15           4312 non-null   float64\n",
            " 18  x16           4509 non-null   float64\n",
            " 19  x17           4499 non-null   float64\n",
            " 20  x18           4439 non-null   float64\n",
            " 21  x19           4410 non-null   float64\n",
            " 22  x20           4444 non-null   float64\n",
            " 23  x21           4447 non-null   float64\n",
            " 24  x22           4379 non-null   float64\n",
            " 25  x23           4490 non-null   float64\n",
            " 26  x24           4414 non-null   float64\n",
            " 27  x25           4149 non-null   float64\n",
            " 28  x26           4223 non-null   float64\n",
            " 29  x27           4389 non-null   float64\n",
            " 30  x28           3401 non-null   float64\n",
            " 31  x29           2750 non-null   float64\n",
            " 32  x30           4013 non-null   float64\n",
            " 33  x31           3869 non-null   float64\n",
            " 34  x32           3506 non-null   float64\n",
            " 35  x33           4296 non-null   float64\n",
            " 36  x34           3839 non-null   float64\n",
            " 37  x35           3904 non-null   float64\n",
            " 38  x36           4400 non-null   float64\n",
            " 39  x37           3702 non-null   float64\n",
            " 40  x38           4534 non-null   float64\n",
            " 41  x39           3523 non-null   float64\n",
            " 42  x40           2508 non-null   float64\n",
            " 43  x41           4405 non-null   float64\n",
            " 44  x42           3761 non-null   float64\n",
            " 45  x43           3230 non-null   float64\n",
            " 46  x44           4413 non-null   float64\n",
            " 47  x45           4273 non-null   float64\n",
            " 48  x46           4388 non-null   float64\n",
            " 49  x47           4337 non-null   float64\n",
            " 50  x48           3533 non-null   float64\n",
            " 51  x49           3465 non-null   float64\n",
            " 52  x50           3418 non-null   float64\n",
            " 53  x51           3385 non-null   float64\n",
            " 54  x52           2681 non-null   float64\n",
            " 55  x53           2609 non-null   float64\n",
            " 56  x54           3459 non-null   float64\n",
            " 57  x55           3894 non-null   float64\n",
            " 58  data_quality  4874 non-null   int64  \n",
            "dtypes: float64(55), int64(2), object(2)\n",
            "memory usage: 2.2+ MB\n"
          ]
        }
      ]
    },
    {
      "cell_type": "code",
      "source": [
        "data=data.fillna(value=0)"
      ],
      "metadata": {
        "id": "3f-WGkjqLyuR"
      },
      "execution_count": null,
      "outputs": []
    },
    {
      "cell_type": "code",
      "source": [
        "X=data.iloc[:,3:-1].values\n",
        "y=data.iloc[:,-1].values\n"
      ],
      "metadata": {
        "id": "XTa1ruktQMRw"
      },
      "execution_count": null,
      "outputs": []
    },
    {
      "cell_type": "code",
      "source": [
        "from sklearn.model_selection import train_test_split\n",
        "xtrain,xtest,ytrain,ytest=train_test_split(X,y,test_size=0.2)\n"
      ],
      "metadata": {
        "id": "eaoTpXS_skgT"
      },
      "execution_count": null,
      "outputs": []
    },
    {
      "cell_type": "code",
      "source": [
        "from sklearn.linear_model import LinearRegression\n",
        "mreg=LinearRegression()\n",
        "mreg.fit(xtrain,ytrain)\n",
        "pred=mreg.predict(xtest)"
      ],
      "metadata": {
        "id": "qTrFU00Sskui"
      },
      "execution_count": null,
      "outputs": []
    },
    {
      "cell_type": "code",
      "source": [
        "from sklearn.metrics import mean_squared_error\n",
        "r=np.sqrt(mean_squared_error(ytest,pred))\n",
        "r"
      ],
      "metadata": {
        "id": "BHaLvV7lR1TQ",
        "colab": {
          "base_uri": "https://localhost:8080/"
        },
        "outputId": "875cff8b-403b-4c91-fdaa-5250cd29ea43"
      },
      "execution_count": null,
      "outputs": [
        {
          "output_type": "execute_result",
          "data": {
            "text/plain": [
              "0.34360146796301394"
            ]
          },
          "metadata": {},
          "execution_count": 7
        }
      ]
    },
    {
      "cell_type": "markdown",
      "source": [
        "2.polynomial regression"
      ],
      "metadata": {
        "id": "yZ_I2zyQKEFi"
      }
    },
    {
      "cell_type": "code",
      "source": [
        "import pandas as pd\n",
        "import numpy as np\n",
        "import matplotlib.pyplot as plt"
      ],
      "metadata": {
        "id": "rJxritgvKI2u"
      },
      "execution_count": null,
      "outputs": []
    },
    {
      "cell_type": "code",
      "source": [
        "data=pd.read_csv('/content/cost-of-living.csv')\n",
        "data=data.fillna(value=0)"
      ],
      "metadata": {
        "id": "Ibooq_WzKJHZ"
      },
      "execution_count": null,
      "outputs": []
    },
    {
      "cell_type": "code",
      "source": [
        "X=data.iloc[:,3:-1].values\n",
        "y=data.iloc[:,-1].values"
      ],
      "metadata": {
        "id": "a2DYQTdLKJY5"
      },
      "execution_count": null,
      "outputs": []
    },
    {
      "cell_type": "code",
      "source": [
        "from sklearn.preprocessing import PolynomialFeatures\n",
        "obj=PolynomialFeatures(degree=3)"
      ],
      "metadata": {
        "id": "pFosdbQ6NM_b"
      },
      "execution_count": null,
      "outputs": []
    },
    {
      "cell_type": "code",
      "source": [
        "x_poly=obj.fit_transform(X)\n",
        "x_poly"
      ],
      "metadata": {
        "colab": {
          "base_uri": "https://localhost:8080/"
        },
        "id": "6NkWmjzaNNLJ",
        "outputId": "1a56403d-8f2e-4a1a-df45-d7b09ed12813"
      },
      "execution_count": null,
      "outputs": [
        {
          "output_type": "execute_result",
          "data": {
            "text/plain": [
              "array([[1.00000000e+00, 4.90000000e+00, 2.20400000e+01, ...,\n",
              "        2.73669833e+06, 3.71520742e+04, 5.04358336e+02],\n",
              "       [1.00000000e+00, 5.59000000e+00, 4.05100000e+01, ...,\n",
              "        9.58021623e+06, 3.47091713e+04, 1.25751501e+02],\n",
              "       [1.00000000e+00, 2.54000000e+00, 2.22500000e+01, ...,\n",
              "        2.13627407e+06, 4.04538748e+04, 7.66060875e+02],\n",
              "       ...,\n",
              "       [1.00000000e+00, 5.19000000e+00, 3.11300000e+01, ...,\n",
              "        0.00000000e+00, 0.00000000e+00, 0.00000000e+00],\n",
              "       [1.00000000e+00, 2.97800000e+01, 7.46100000e+01, ...,\n",
              "        0.00000000e+00, 0.00000000e+00, 2.78445077e+02],\n",
              "       [1.00000000e+00, 0.00000000e+00, 2.95300000e+01, ...,\n",
              "        0.00000000e+00, 0.00000000e+00, 0.00000000e+00]])"
            ]
          },
          "metadata": {},
          "execution_count": 12
        }
      ]
    },
    {
      "cell_type": "code",
      "source": [
        "from sklearn.linear_model import LinearRegression\n",
        "preg=LinearRegression()\n",
        "preg.fit(x_poly,y)"
      ],
      "metadata": {
        "colab": {
          "base_uri": "https://localhost:8080/",
          "height": 74
        },
        "id": "Q3vjwShENNUx",
        "outputId": "514a2139-1b62-4255-b415-56b0039ba503"
      },
      "execution_count": null,
      "outputs": [
        {
          "output_type": "execute_result",
          "data": {
            "text/plain": [
              "LinearRegression()"
            ],
            "text/html": [
              "<style>#sk-container-id-1 {color: black;background-color: white;}#sk-container-id-1 pre{padding: 0;}#sk-container-id-1 div.sk-toggleable {background-color: white;}#sk-container-id-1 label.sk-toggleable__label {cursor: pointer;display: block;width: 100%;margin-bottom: 0;padding: 0.3em;box-sizing: border-box;text-align: center;}#sk-container-id-1 label.sk-toggleable__label-arrow:before {content: \"▸\";float: left;margin-right: 0.25em;color: #696969;}#sk-container-id-1 label.sk-toggleable__label-arrow:hover:before {color: black;}#sk-container-id-1 div.sk-estimator:hover label.sk-toggleable__label-arrow:before {color: black;}#sk-container-id-1 div.sk-toggleable__content {max-height: 0;max-width: 0;overflow: hidden;text-align: left;background-color: #f0f8ff;}#sk-container-id-1 div.sk-toggleable__content pre {margin: 0.2em;color: black;border-radius: 0.25em;background-color: #f0f8ff;}#sk-container-id-1 input.sk-toggleable__control:checked~div.sk-toggleable__content {max-height: 200px;max-width: 100%;overflow: auto;}#sk-container-id-1 input.sk-toggleable__control:checked~label.sk-toggleable__label-arrow:before {content: \"▾\";}#sk-container-id-1 div.sk-estimator input.sk-toggleable__control:checked~label.sk-toggleable__label {background-color: #d4ebff;}#sk-container-id-1 div.sk-label input.sk-toggleable__control:checked~label.sk-toggleable__label {background-color: #d4ebff;}#sk-container-id-1 input.sk-hidden--visually {border: 0;clip: rect(1px 1px 1px 1px);clip: rect(1px, 1px, 1px, 1px);height: 1px;margin: -1px;overflow: hidden;padding: 0;position: absolute;width: 1px;}#sk-container-id-1 div.sk-estimator {font-family: monospace;background-color: #f0f8ff;border: 1px dotted black;border-radius: 0.25em;box-sizing: border-box;margin-bottom: 0.5em;}#sk-container-id-1 div.sk-estimator:hover {background-color: #d4ebff;}#sk-container-id-1 div.sk-parallel-item::after {content: \"\";width: 100%;border-bottom: 1px solid gray;flex-grow: 1;}#sk-container-id-1 div.sk-label:hover label.sk-toggleable__label {background-color: #d4ebff;}#sk-container-id-1 div.sk-serial::before {content: \"\";position: absolute;border-left: 1px solid gray;box-sizing: border-box;top: 0;bottom: 0;left: 50%;z-index: 0;}#sk-container-id-1 div.sk-serial {display: flex;flex-direction: column;align-items: center;background-color: white;padding-right: 0.2em;padding-left: 0.2em;position: relative;}#sk-container-id-1 div.sk-item {position: relative;z-index: 1;}#sk-container-id-1 div.sk-parallel {display: flex;align-items: stretch;justify-content: center;background-color: white;position: relative;}#sk-container-id-1 div.sk-item::before, #sk-container-id-1 div.sk-parallel-item::before {content: \"\";position: absolute;border-left: 1px solid gray;box-sizing: border-box;top: 0;bottom: 0;left: 50%;z-index: -1;}#sk-container-id-1 div.sk-parallel-item {display: flex;flex-direction: column;z-index: 1;position: relative;background-color: white;}#sk-container-id-1 div.sk-parallel-item:first-child::after {align-self: flex-end;width: 50%;}#sk-container-id-1 div.sk-parallel-item:last-child::after {align-self: flex-start;width: 50%;}#sk-container-id-1 div.sk-parallel-item:only-child::after {width: 0;}#sk-container-id-1 div.sk-dashed-wrapped {border: 1px dashed gray;margin: 0 0.4em 0.5em 0.4em;box-sizing: border-box;padding-bottom: 0.4em;background-color: white;}#sk-container-id-1 div.sk-label label {font-family: monospace;font-weight: bold;display: inline-block;line-height: 1.2em;}#sk-container-id-1 div.sk-label-container {text-align: center;}#sk-container-id-1 div.sk-container {/* jupyter's `normalize.less` sets `[hidden] { display: none; }` but bootstrap.min.css set `[hidden] { display: none !important; }` so we also need the `!important` here to be able to override the default hidden behavior on the sphinx rendered scikit-learn.org. See: https://github.com/scikit-learn/scikit-learn/issues/21755 */display: inline-block !important;position: relative;}#sk-container-id-1 div.sk-text-repr-fallback {display: none;}</style><div id=\"sk-container-id-1\" class=\"sk-top-container\"><div class=\"sk-text-repr-fallback\"><pre>LinearRegression()</pre><b>In a Jupyter environment, please rerun this cell to show the HTML representation or trust the notebook. <br />On GitHub, the HTML representation is unable to render, please try loading this page with nbviewer.org.</b></div><div class=\"sk-container\" hidden><div class=\"sk-item\"><div class=\"sk-estimator sk-toggleable\"><input class=\"sk-toggleable__control sk-hidden--visually\" id=\"sk-estimator-id-1\" type=\"checkbox\" checked><label for=\"sk-estimator-id-1\" class=\"sk-toggleable__label sk-toggleable__label-arrow\">LinearRegression</label><div class=\"sk-toggleable__content\"><pre>LinearRegression()</pre></div></div></div></div></div>"
            ]
          },
          "metadata": {},
          "execution_count": 13
        }
      ]
    },
    {
      "cell_type": "code",
      "source": [
        "pred=preg.predict(x_poly)"
      ],
      "metadata": {
        "id": "RgDVF9y0OS_A"
      },
      "execution_count": null,
      "outputs": []
    },
    {
      "cell_type": "code",
      "source": [
        "from sklearn.metrics import mean_squared_error,r2_score"
      ],
      "metadata": {
        "id": "ftyvvNeoQ0iu"
      },
      "execution_count": null,
      "outputs": []
    },
    {
      "cell_type": "code",
      "source": [
        "r=np.sqrt(mean_squared_error(y,pred))\n",
        "score=r2_score(y,pred)\n",
        "r"
      ],
      "metadata": {
        "colab": {
          "base_uri": "https://localhost:8080/"
        },
        "id": "yERAH4ztQ05N",
        "outputId": "5805a63d-4c66-491f-d063-edce6e9a16cc"
      },
      "execution_count": null,
      "outputs": [
        {
          "output_type": "execute_result",
          "data": {
            "text/plain": [
              "0.0001580787028555138"
            ]
          },
          "metadata": {},
          "execution_count": 16
        }
      ]
    },
    {
      "cell_type": "code",
      "source": [
        "score"
      ],
      "metadata": {
        "colab": {
          "base_uri": "https://localhost:8080/"
        },
        "id": "HAXuYJwEXnNz",
        "outputId": "7f1389f1-c643-4d5b-f256-4f0156889a3a"
      },
      "execution_count": null,
      "outputs": [
        {
          "output_type": "execute_result",
          "data": {
            "text/plain": [
              "0.9999998354330051"
            ]
          },
          "metadata": {},
          "execution_count": 17
        }
      ]
    },
    {
      "cell_type": "markdown",
      "source": [
        "3.decision tree"
      ],
      "metadata": {
        "id": "nkhVoszVQ6bb"
      }
    },
    {
      "cell_type": "code",
      "source": [
        "import numpy as np\n",
        "import pandas as pd"
      ],
      "metadata": {
        "id": "2BQJEHPKQ9nx"
      },
      "execution_count": null,
      "outputs": []
    },
    {
      "cell_type": "code",
      "source": [
        "data=pd.read_csv('/content/cost-of-living.csv')\n",
        "data=data.fillna(value=0)\n",
        "data"
      ],
      "metadata": {
        "colab": {
          "base_uri": "https://localhost:8080/",
          "height": 539
        },
        "id": "yXJctXFFQ-D7",
        "outputId": "8d65d7ac-1a00-471c-e291-6e61eda6604d"
      },
      "execution_count": null,
      "outputs": [
        {
          "output_type": "execute_result",
          "data": {
            "text/plain": [
              "      Unnamed: 0                city      country     x1     x2     x3     x4  \\\n",
              "0              0               Delhi        India   4.90  22.04   4.28   1.84   \n",
              "1              1            Shanghai        China   5.59  40.51   5.59   1.12   \n",
              "2              2             Jakarta    Indonesia   2.54  22.25   3.50   2.02   \n",
              "3              3              Manila  Philippines   3.54  27.40   3.54   1.24   \n",
              "4              4               Seoul  South Korea   7.16  52.77   6.03   3.02   \n",
              "...          ...                 ...          ...    ...    ...    ...    ...   \n",
              "4869        4869        Peterborough    Australia   0.00   0.00   0.00   0.00   \n",
              "4870        4870          Georgetown    Australia   0.00   0.00   0.00   0.00   \n",
              "4871        4871  Ixtapa Zihuatanejo       Mexico   5.19  31.13  12.97   0.99   \n",
              "4872        4872             Iqaluit       Canada  29.78  74.61  13.77   6.70   \n",
              "4873        4873              Neiafu        Tonga   0.00  29.53  10.55  10.55   \n",
              "\n",
              "        x5    x6    x7  ...     x47      x48     x49      x50      x51  \\\n",
              "0     3.67  1.78  0.48  ...   36.26   223.87  133.38   596.16   325.82   \n",
              "1     4.19  3.96  0.52  ...  121.19  1080.07  564.30  2972.57  1532.23   \n",
              "2     3.18  2.19  0.59  ...   80.32   482.85  270.15  1117.69   584.37   \n",
              "3     1.90  2.91  0.93  ...   61.82   559.52  281.78  1754.40   684.81   \n",
              "4     4.52  3.86  1.46  ...  108.30   809.83  583.60  2621.05  1683.74   \n",
              "...    ...   ...   ...  ...     ...      ...     ...      ...      ...   \n",
              "4869  0.00  0.00  0.00  ...    0.00     0.00    0.00     0.00     0.00   \n",
              "4870  0.00  0.00  0.00  ...    0.00     0.00    0.00     0.00     0.00   \n",
              "4871  0.00  1.82  0.62  ...  103.78   415.11  259.44   518.89   415.11   \n",
              "4872  8.93  3.72  3.54  ...    0.00     0.00    0.00  2978.11  2978.11   \n",
              "4873  0.00  0.00  2.11  ...    0.00     0.00    0.00     0.00     0.00   \n",
              "\n",
              "           x52       x53      x54   x55  data_quality  \n",
              "0      2619.46   1068.90   586.35  7.96             1  \n",
              "1     17333.09   9174.88  1382.83  5.01             1  \n",
              "2      2694.05   1269.44   483.19  9.15             1  \n",
              "3      3536.04   2596.44   419.02  7.80             1  \n",
              "4     21847.94  10832.90  2672.23  3.47             1  \n",
              "...        ...       ...      ...   ...           ...  \n",
              "4869      0.00      0.00     0.00  0.00             0  \n",
              "4870      0.00      0.00     0.00  0.00             0  \n",
              "4871      0.00      0.00     0.00  0.00             0  \n",
              "4872      0.00      0.00     0.00  6.53             0  \n",
              "4873      0.00      0.00     0.00  0.00             0  \n",
              "\n",
              "[4874 rows x 59 columns]"
            ],
            "text/html": [
              "\n",
              "\n",
              "  <div id=\"df-853215f4-7b12-44d5-8607-3d5d08a3e64a\">\n",
              "    <div class=\"colab-df-container\">\n",
              "      <div>\n",
              "<style scoped>\n",
              "    .dataframe tbody tr th:only-of-type {\n",
              "        vertical-align: middle;\n",
              "    }\n",
              "\n",
              "    .dataframe tbody tr th {\n",
              "        vertical-align: top;\n",
              "    }\n",
              "\n",
              "    .dataframe thead th {\n",
              "        text-align: right;\n",
              "    }\n",
              "</style>\n",
              "<table border=\"1\" class=\"dataframe\">\n",
              "  <thead>\n",
              "    <tr style=\"text-align: right;\">\n",
              "      <th></th>\n",
              "      <th>Unnamed: 0</th>\n",
              "      <th>city</th>\n",
              "      <th>country</th>\n",
              "      <th>x1</th>\n",
              "      <th>x2</th>\n",
              "      <th>x3</th>\n",
              "      <th>x4</th>\n",
              "      <th>x5</th>\n",
              "      <th>x6</th>\n",
              "      <th>x7</th>\n",
              "      <th>...</th>\n",
              "      <th>x47</th>\n",
              "      <th>x48</th>\n",
              "      <th>x49</th>\n",
              "      <th>x50</th>\n",
              "      <th>x51</th>\n",
              "      <th>x52</th>\n",
              "      <th>x53</th>\n",
              "      <th>x54</th>\n",
              "      <th>x55</th>\n",
              "      <th>data_quality</th>\n",
              "    </tr>\n",
              "  </thead>\n",
              "  <tbody>\n",
              "    <tr>\n",
              "      <th>0</th>\n",
              "      <td>0</td>\n",
              "      <td>Delhi</td>\n",
              "      <td>India</td>\n",
              "      <td>4.90</td>\n",
              "      <td>22.04</td>\n",
              "      <td>4.28</td>\n",
              "      <td>1.84</td>\n",
              "      <td>3.67</td>\n",
              "      <td>1.78</td>\n",
              "      <td>0.48</td>\n",
              "      <td>...</td>\n",
              "      <td>36.26</td>\n",
              "      <td>223.87</td>\n",
              "      <td>133.38</td>\n",
              "      <td>596.16</td>\n",
              "      <td>325.82</td>\n",
              "      <td>2619.46</td>\n",
              "      <td>1068.90</td>\n",
              "      <td>586.35</td>\n",
              "      <td>7.96</td>\n",
              "      <td>1</td>\n",
              "    </tr>\n",
              "    <tr>\n",
              "      <th>1</th>\n",
              "      <td>1</td>\n",
              "      <td>Shanghai</td>\n",
              "      <td>China</td>\n",
              "      <td>5.59</td>\n",
              "      <td>40.51</td>\n",
              "      <td>5.59</td>\n",
              "      <td>1.12</td>\n",
              "      <td>4.19</td>\n",
              "      <td>3.96</td>\n",
              "      <td>0.52</td>\n",
              "      <td>...</td>\n",
              "      <td>121.19</td>\n",
              "      <td>1080.07</td>\n",
              "      <td>564.30</td>\n",
              "      <td>2972.57</td>\n",
              "      <td>1532.23</td>\n",
              "      <td>17333.09</td>\n",
              "      <td>9174.88</td>\n",
              "      <td>1382.83</td>\n",
              "      <td>5.01</td>\n",
              "      <td>1</td>\n",
              "    </tr>\n",
              "    <tr>\n",
              "      <th>2</th>\n",
              "      <td>2</td>\n",
              "      <td>Jakarta</td>\n",
              "      <td>Indonesia</td>\n",
              "      <td>2.54</td>\n",
              "      <td>22.25</td>\n",
              "      <td>3.50</td>\n",
              "      <td>2.02</td>\n",
              "      <td>3.18</td>\n",
              "      <td>2.19</td>\n",
              "      <td>0.59</td>\n",
              "      <td>...</td>\n",
              "      <td>80.32</td>\n",
              "      <td>482.85</td>\n",
              "      <td>270.15</td>\n",
              "      <td>1117.69</td>\n",
              "      <td>584.37</td>\n",
              "      <td>2694.05</td>\n",
              "      <td>1269.44</td>\n",
              "      <td>483.19</td>\n",
              "      <td>9.15</td>\n",
              "      <td>1</td>\n",
              "    </tr>\n",
              "    <tr>\n",
              "      <th>3</th>\n",
              "      <td>3</td>\n",
              "      <td>Manila</td>\n",
              "      <td>Philippines</td>\n",
              "      <td>3.54</td>\n",
              "      <td>27.40</td>\n",
              "      <td>3.54</td>\n",
              "      <td>1.24</td>\n",
              "      <td>1.90</td>\n",
              "      <td>2.91</td>\n",
              "      <td>0.93</td>\n",
              "      <td>...</td>\n",
              "      <td>61.82</td>\n",
              "      <td>559.52</td>\n",
              "      <td>281.78</td>\n",
              "      <td>1754.40</td>\n",
              "      <td>684.81</td>\n",
              "      <td>3536.04</td>\n",
              "      <td>2596.44</td>\n",
              "      <td>419.02</td>\n",
              "      <td>7.80</td>\n",
              "      <td>1</td>\n",
              "    </tr>\n",
              "    <tr>\n",
              "      <th>4</th>\n",
              "      <td>4</td>\n",
              "      <td>Seoul</td>\n",
              "      <td>South Korea</td>\n",
              "      <td>7.16</td>\n",
              "      <td>52.77</td>\n",
              "      <td>6.03</td>\n",
              "      <td>3.02</td>\n",
              "      <td>4.52</td>\n",
              "      <td>3.86</td>\n",
              "      <td>1.46</td>\n",
              "      <td>...</td>\n",
              "      <td>108.30</td>\n",
              "      <td>809.83</td>\n",
              "      <td>583.60</td>\n",
              "      <td>2621.05</td>\n",
              "      <td>1683.74</td>\n",
              "      <td>21847.94</td>\n",
              "      <td>10832.90</td>\n",
              "      <td>2672.23</td>\n",
              "      <td>3.47</td>\n",
              "      <td>1</td>\n",
              "    </tr>\n",
              "    <tr>\n",
              "      <th>...</th>\n",
              "      <td>...</td>\n",
              "      <td>...</td>\n",
              "      <td>...</td>\n",
              "      <td>...</td>\n",
              "      <td>...</td>\n",
              "      <td>...</td>\n",
              "      <td>...</td>\n",
              "      <td>...</td>\n",
              "      <td>...</td>\n",
              "      <td>...</td>\n",
              "      <td>...</td>\n",
              "      <td>...</td>\n",
              "      <td>...</td>\n",
              "      <td>...</td>\n",
              "      <td>...</td>\n",
              "      <td>...</td>\n",
              "      <td>...</td>\n",
              "      <td>...</td>\n",
              "      <td>...</td>\n",
              "      <td>...</td>\n",
              "      <td>...</td>\n",
              "    </tr>\n",
              "    <tr>\n",
              "      <th>4869</th>\n",
              "      <td>4869</td>\n",
              "      <td>Peterborough</td>\n",
              "      <td>Australia</td>\n",
              "      <td>0.00</td>\n",
              "      <td>0.00</td>\n",
              "      <td>0.00</td>\n",
              "      <td>0.00</td>\n",
              "      <td>0.00</td>\n",
              "      <td>0.00</td>\n",
              "      <td>0.00</td>\n",
              "      <td>...</td>\n",
              "      <td>0.00</td>\n",
              "      <td>0.00</td>\n",
              "      <td>0.00</td>\n",
              "      <td>0.00</td>\n",
              "      <td>0.00</td>\n",
              "      <td>0.00</td>\n",
              "      <td>0.00</td>\n",
              "      <td>0.00</td>\n",
              "      <td>0.00</td>\n",
              "      <td>0</td>\n",
              "    </tr>\n",
              "    <tr>\n",
              "      <th>4870</th>\n",
              "      <td>4870</td>\n",
              "      <td>Georgetown</td>\n",
              "      <td>Australia</td>\n",
              "      <td>0.00</td>\n",
              "      <td>0.00</td>\n",
              "      <td>0.00</td>\n",
              "      <td>0.00</td>\n",
              "      <td>0.00</td>\n",
              "      <td>0.00</td>\n",
              "      <td>0.00</td>\n",
              "      <td>...</td>\n",
              "      <td>0.00</td>\n",
              "      <td>0.00</td>\n",
              "      <td>0.00</td>\n",
              "      <td>0.00</td>\n",
              "      <td>0.00</td>\n",
              "      <td>0.00</td>\n",
              "      <td>0.00</td>\n",
              "      <td>0.00</td>\n",
              "      <td>0.00</td>\n",
              "      <td>0</td>\n",
              "    </tr>\n",
              "    <tr>\n",
              "      <th>4871</th>\n",
              "      <td>4871</td>\n",
              "      <td>Ixtapa Zihuatanejo</td>\n",
              "      <td>Mexico</td>\n",
              "      <td>5.19</td>\n",
              "      <td>31.13</td>\n",
              "      <td>12.97</td>\n",
              "      <td>0.99</td>\n",
              "      <td>0.00</td>\n",
              "      <td>1.82</td>\n",
              "      <td>0.62</td>\n",
              "      <td>...</td>\n",
              "      <td>103.78</td>\n",
              "      <td>415.11</td>\n",
              "      <td>259.44</td>\n",
              "      <td>518.89</td>\n",
              "      <td>415.11</td>\n",
              "      <td>0.00</td>\n",
              "      <td>0.00</td>\n",
              "      <td>0.00</td>\n",
              "      <td>0.00</td>\n",
              "      <td>0</td>\n",
              "    </tr>\n",
              "    <tr>\n",
              "      <th>4872</th>\n",
              "      <td>4872</td>\n",
              "      <td>Iqaluit</td>\n",
              "      <td>Canada</td>\n",
              "      <td>29.78</td>\n",
              "      <td>74.61</td>\n",
              "      <td>13.77</td>\n",
              "      <td>6.70</td>\n",
              "      <td>8.93</td>\n",
              "      <td>3.72</td>\n",
              "      <td>3.54</td>\n",
              "      <td>...</td>\n",
              "      <td>0.00</td>\n",
              "      <td>0.00</td>\n",
              "      <td>0.00</td>\n",
              "      <td>2978.11</td>\n",
              "      <td>2978.11</td>\n",
              "      <td>0.00</td>\n",
              "      <td>0.00</td>\n",
              "      <td>0.00</td>\n",
              "      <td>6.53</td>\n",
              "      <td>0</td>\n",
              "    </tr>\n",
              "    <tr>\n",
              "      <th>4873</th>\n",
              "      <td>4873</td>\n",
              "      <td>Neiafu</td>\n",
              "      <td>Tonga</td>\n",
              "      <td>0.00</td>\n",
              "      <td>29.53</td>\n",
              "      <td>10.55</td>\n",
              "      <td>10.55</td>\n",
              "      <td>0.00</td>\n",
              "      <td>0.00</td>\n",
              "      <td>2.11</td>\n",
              "      <td>...</td>\n",
              "      <td>0.00</td>\n",
              "      <td>0.00</td>\n",
              "      <td>0.00</td>\n",
              "      <td>0.00</td>\n",
              "      <td>0.00</td>\n",
              "      <td>0.00</td>\n",
              "      <td>0.00</td>\n",
              "      <td>0.00</td>\n",
              "      <td>0.00</td>\n",
              "      <td>0</td>\n",
              "    </tr>\n",
              "  </tbody>\n",
              "</table>\n",
              "<p>4874 rows × 59 columns</p>\n",
              "</div>\n",
              "      <button class=\"colab-df-convert\" onclick=\"convertToInteractive('df-853215f4-7b12-44d5-8607-3d5d08a3e64a')\"\n",
              "              title=\"Convert this dataframe to an interactive table.\"\n",
              "              style=\"display:none;\">\n",
              "\n",
              "  <svg xmlns=\"http://www.w3.org/2000/svg\" height=\"24px\"viewBox=\"0 0 24 24\"\n",
              "       width=\"24px\">\n",
              "    <path d=\"M0 0h24v24H0V0z\" fill=\"none\"/>\n",
              "    <path d=\"M18.56 5.44l.94 2.06.94-2.06 2.06-.94-2.06-.94-.94-2.06-.94 2.06-2.06.94zm-11 1L8.5 8.5l.94-2.06 2.06-.94-2.06-.94L8.5 2.5l-.94 2.06-2.06.94zm10 10l.94 2.06.94-2.06 2.06-.94-2.06-.94-.94-2.06-.94 2.06-2.06.94z\"/><path d=\"M17.41 7.96l-1.37-1.37c-.4-.4-.92-.59-1.43-.59-.52 0-1.04.2-1.43.59L10.3 9.45l-7.72 7.72c-.78.78-.78 2.05 0 2.83L4 21.41c.39.39.9.59 1.41.59.51 0 1.02-.2 1.41-.59l7.78-7.78 2.81-2.81c.8-.78.8-2.07 0-2.86zM5.41 20L4 18.59l7.72-7.72 1.47 1.35L5.41 20z\"/>\n",
              "  </svg>\n",
              "      </button>\n",
              "\n",
              "\n",
              "\n",
              "    <div id=\"df-e0502e95-d512-45c8-a055-c9b61e04fc6d\">\n",
              "      <button class=\"colab-df-quickchart\" onclick=\"quickchart('df-e0502e95-d512-45c8-a055-c9b61e04fc6d')\"\n",
              "              title=\"Suggest charts.\"\n",
              "              style=\"display:none;\">\n",
              "\n",
              "<svg xmlns=\"http://www.w3.org/2000/svg\" height=\"24px\"viewBox=\"0 0 24 24\"\n",
              "     width=\"24px\">\n",
              "    <g>\n",
              "        <path d=\"M19 3H5c-1.1 0-2 .9-2 2v14c0 1.1.9 2 2 2h14c1.1 0 2-.9 2-2V5c0-1.1-.9-2-2-2zM9 17H7v-7h2v7zm4 0h-2V7h2v10zm4 0h-2v-4h2v4z\"/>\n",
              "    </g>\n",
              "</svg>\n",
              "      </button>\n",
              "    </div>\n",
              "\n",
              "<style>\n",
              "  .colab-df-quickchart {\n",
              "    background-color: #E8F0FE;\n",
              "    border: none;\n",
              "    border-radius: 50%;\n",
              "    cursor: pointer;\n",
              "    display: none;\n",
              "    fill: #1967D2;\n",
              "    height: 32px;\n",
              "    padding: 0 0 0 0;\n",
              "    width: 32px;\n",
              "  }\n",
              "\n",
              "  .colab-df-quickchart:hover {\n",
              "    background-color: #E2EBFA;\n",
              "    box-shadow: 0px 1px 2px rgba(60, 64, 67, 0.3), 0px 1px 3px 1px rgba(60, 64, 67, 0.15);\n",
              "    fill: #174EA6;\n",
              "  }\n",
              "\n",
              "  [theme=dark] .colab-df-quickchart {\n",
              "    background-color: #3B4455;\n",
              "    fill: #D2E3FC;\n",
              "  }\n",
              "\n",
              "  [theme=dark] .colab-df-quickchart:hover {\n",
              "    background-color: #434B5C;\n",
              "    box-shadow: 0px 1px 3px 1px rgba(0, 0, 0, 0.15);\n",
              "    filter: drop-shadow(0px 1px 2px rgba(0, 0, 0, 0.3));\n",
              "    fill: #FFFFFF;\n",
              "  }\n",
              "</style>\n",
              "\n",
              "    <script>\n",
              "      async function quickchart(key) {\n",
              "        const containerElement = document.querySelector('#' + key);\n",
              "        const charts = await google.colab.kernel.invokeFunction(\n",
              "            'suggestCharts', [key], {});\n",
              "      }\n",
              "    </script>\n",
              "\n",
              "      <script>\n",
              "\n",
              "function displayQuickchartButton(domScope) {\n",
              "  let quickchartButtonEl =\n",
              "    domScope.querySelector('#df-e0502e95-d512-45c8-a055-c9b61e04fc6d button.colab-df-quickchart');\n",
              "  quickchartButtonEl.style.display =\n",
              "    google.colab.kernel.accessAllowed ? 'block' : 'none';\n",
              "}\n",
              "\n",
              "        displayQuickchartButton(document);\n",
              "      </script>\n",
              "      <style>\n",
              "    .colab-df-container {\n",
              "      display:flex;\n",
              "      flex-wrap:wrap;\n",
              "      gap: 12px;\n",
              "    }\n",
              "\n",
              "    .colab-df-convert {\n",
              "      background-color: #E8F0FE;\n",
              "      border: none;\n",
              "      border-radius: 50%;\n",
              "      cursor: pointer;\n",
              "      display: none;\n",
              "      fill: #1967D2;\n",
              "      height: 32px;\n",
              "      padding: 0 0 0 0;\n",
              "      width: 32px;\n",
              "    }\n",
              "\n",
              "    .colab-df-convert:hover {\n",
              "      background-color: #E2EBFA;\n",
              "      box-shadow: 0px 1px 2px rgba(60, 64, 67, 0.3), 0px 1px 3px 1px rgba(60, 64, 67, 0.15);\n",
              "      fill: #174EA6;\n",
              "    }\n",
              "\n",
              "    [theme=dark] .colab-df-convert {\n",
              "      background-color: #3B4455;\n",
              "      fill: #D2E3FC;\n",
              "    }\n",
              "\n",
              "    [theme=dark] .colab-df-convert:hover {\n",
              "      background-color: #434B5C;\n",
              "      box-shadow: 0px 1px 3px 1px rgba(0, 0, 0, 0.15);\n",
              "      filter: drop-shadow(0px 1px 2px rgba(0, 0, 0, 0.3));\n",
              "      fill: #FFFFFF;\n",
              "    }\n",
              "  </style>\n",
              "\n",
              "      <script>\n",
              "        const buttonEl =\n",
              "          document.querySelector('#df-853215f4-7b12-44d5-8607-3d5d08a3e64a button.colab-df-convert');\n",
              "        buttonEl.style.display =\n",
              "          google.colab.kernel.accessAllowed ? 'block' : 'none';\n",
              "\n",
              "        async function convertToInteractive(key) {\n",
              "          const element = document.querySelector('#df-853215f4-7b12-44d5-8607-3d5d08a3e64a');\n",
              "          const dataTable =\n",
              "            await google.colab.kernel.invokeFunction('convertToInteractive',\n",
              "                                                     [key], {});\n",
              "          if (!dataTable) return;\n",
              "\n",
              "          const docLinkHtml = 'Like what you see? Visit the ' +\n",
              "            '<a target=\"_blank\" href=https://colab.research.google.com/notebooks/data_table.ipynb>data table notebook</a>'\n",
              "            + ' to learn more about interactive tables.';\n",
              "          element.innerHTML = '';\n",
              "          dataTable['output_type'] = 'display_data';\n",
              "          await google.colab.output.renderOutput(dataTable, element);\n",
              "          const docLink = document.createElement('div');\n",
              "          docLink.innerHTML = docLinkHtml;\n",
              "          element.appendChild(docLink);\n",
              "        }\n",
              "      </script>\n",
              "    </div>\n",
              "  </div>\n"
            ]
          },
          "metadata": {},
          "execution_count": 19
        }
      ]
    },
    {
      "cell_type": "code",
      "source": [
        "X=data.iloc[:,3:-1].values\n",
        "y=data.iloc[:,-1].values\n",
        "X"
      ],
      "metadata": {
        "colab": {
          "base_uri": "https://localhost:8080/"
        },
        "id": "XlWqPWDbQ-Ha",
        "outputId": "e84bc54f-3868-4895-91f0-fe1f891af58b"
      },
      "execution_count": null,
      "outputs": [
        {
          "output_type": "execute_result",
          "data": {
            "text/plain": [
              "array([[4.90000e+00, 2.20400e+01, 4.28000e+00, ..., 1.06890e+03,\n",
              "        5.86350e+02, 7.96000e+00],\n",
              "       [5.59000e+00, 4.05100e+01, 5.59000e+00, ..., 9.17488e+03,\n",
              "        1.38283e+03, 5.01000e+00],\n",
              "       [2.54000e+00, 2.22500e+01, 3.50000e+00, ..., 1.26944e+03,\n",
              "        4.83190e+02, 9.15000e+00],\n",
              "       ...,\n",
              "       [5.19000e+00, 3.11300e+01, 1.29700e+01, ..., 0.00000e+00,\n",
              "        0.00000e+00, 0.00000e+00],\n",
              "       [2.97800e+01, 7.46100e+01, 1.37700e+01, ..., 0.00000e+00,\n",
              "        0.00000e+00, 6.53000e+00],\n",
              "       [0.00000e+00, 2.95300e+01, 1.05500e+01, ..., 0.00000e+00,\n",
              "        0.00000e+00, 0.00000e+00]])"
            ]
          },
          "metadata": {},
          "execution_count": 20
        }
      ]
    },
    {
      "cell_type": "code",
      "source": [
        "y"
      ],
      "metadata": {
        "colab": {
          "base_uri": "https://localhost:8080/"
        },
        "id": "v2jb26peRXeA",
        "outputId": "6568bc58-524f-4d3a-b7c4-3b983de0be6a"
      },
      "execution_count": null,
      "outputs": [
        {
          "output_type": "execute_result",
          "data": {
            "text/plain": [
              "array([1, 1, 1, ..., 0, 0, 0])"
            ]
          },
          "metadata": {},
          "execution_count": 21
        }
      ]
    },
    {
      "cell_type": "code",
      "source": [
        "from sklearn.model_selection import train_test_split\n",
        "xtrain,xtest,ytrain,ytest=train_test_split(X,y,test_size=0.2)"
      ],
      "metadata": {
        "id": "xbRp63DHRXoI"
      },
      "execution_count": null,
      "outputs": []
    },
    {
      "cell_type": "code",
      "source": [
        "from sklearn.tree import DecisionTreeRegressor\n",
        "dreg=DecisionTreeRegressor()"
      ],
      "metadata": {
        "id": "dV29rm58RXsS"
      },
      "execution_count": null,
      "outputs": []
    },
    {
      "cell_type": "code",
      "source": [
        "dreg.fit(xtrain,ytrain)\n",
        "pred=dreg.predict(xtest)"
      ],
      "metadata": {
        "id": "Iqg7eGuURXyd"
      },
      "execution_count": null,
      "outputs": []
    },
    {
      "cell_type": "code",
      "source": [
        "from sklearn.metrics import mean_squared_error,r2_score\n",
        "score=r2_score(ytest,pred)\n",
        "rmse=np.sqrt(mean_squared_error(ytest,pred))\n",
        "score"
      ],
      "metadata": {
        "colab": {
          "base_uri": "https://localhost:8080/"
        },
        "id": "FVGwSy48RfS0",
        "outputId": "9c9f0c1d-6be7-41b2-bd27-3f32a8ab7f85"
      },
      "execution_count": null,
      "outputs": [
        {
          "output_type": "execute_result",
          "data": {
            "text/plain": [
              "-0.011921064391045677"
            ]
          },
          "metadata": {},
          "execution_count": 25
        }
      ]
    },
    {
      "cell_type": "code",
      "source": [
        "rmse"
      ],
      "metadata": {
        "colab": {
          "base_uri": "https://localhost:8080/"
        },
        "id": "093W7iL2RfWe",
        "outputId": "d39f2fd6-aa08-4eee-bf82-87ba6d4cf943"
      },
      "execution_count": null,
      "outputs": [
        {
          "output_type": "execute_result",
          "data": {
            "text/plain": [
              "0.38430756913220915"
            ]
          },
          "metadata": {},
          "execution_count": 26
        }
      ]
    },
    {
      "cell_type": "markdown",
      "source": [
        "4.random forest"
      ],
      "metadata": {
        "id": "-ZuEqyhFSy7M"
      }
    },
    {
      "cell_type": "code",
      "source": [
        "import numpy as np\n",
        "import pandas as pd"
      ],
      "metadata": {
        "id": "Kw7UW1nQS2sS"
      },
      "execution_count": null,
      "outputs": []
    },
    {
      "cell_type": "code",
      "source": [
        "data=pd.read_csv('/content/cost-of-living.csv')\n",
        "data=data.fillna(value=0)\n",
        "data"
      ],
      "metadata": {
        "colab": {
          "base_uri": "https://localhost:8080/",
          "height": 539
        },
        "id": "JotlPpAZS2vc",
        "outputId": "ec58d2e9-732f-42c8-fde8-ee224d21d043"
      },
      "execution_count": null,
      "outputs": [
        {
          "output_type": "execute_result",
          "data": {
            "text/plain": [
              "      Unnamed: 0                city      country     x1     x2     x3     x4  \\\n",
              "0              0               Delhi        India   4.90  22.04   4.28   1.84   \n",
              "1              1            Shanghai        China   5.59  40.51   5.59   1.12   \n",
              "2              2             Jakarta    Indonesia   2.54  22.25   3.50   2.02   \n",
              "3              3              Manila  Philippines   3.54  27.40   3.54   1.24   \n",
              "4              4               Seoul  South Korea   7.16  52.77   6.03   3.02   \n",
              "...          ...                 ...          ...    ...    ...    ...    ...   \n",
              "4869        4869        Peterborough    Australia   0.00   0.00   0.00   0.00   \n",
              "4870        4870          Georgetown    Australia   0.00   0.00   0.00   0.00   \n",
              "4871        4871  Ixtapa Zihuatanejo       Mexico   5.19  31.13  12.97   0.99   \n",
              "4872        4872             Iqaluit       Canada  29.78  74.61  13.77   6.70   \n",
              "4873        4873              Neiafu        Tonga   0.00  29.53  10.55  10.55   \n",
              "\n",
              "        x5    x6    x7  ...     x47      x48     x49      x50      x51  \\\n",
              "0     3.67  1.78  0.48  ...   36.26   223.87  133.38   596.16   325.82   \n",
              "1     4.19  3.96  0.52  ...  121.19  1080.07  564.30  2972.57  1532.23   \n",
              "2     3.18  2.19  0.59  ...   80.32   482.85  270.15  1117.69   584.37   \n",
              "3     1.90  2.91  0.93  ...   61.82   559.52  281.78  1754.40   684.81   \n",
              "4     4.52  3.86  1.46  ...  108.30   809.83  583.60  2621.05  1683.74   \n",
              "...    ...   ...   ...  ...     ...      ...     ...      ...      ...   \n",
              "4869  0.00  0.00  0.00  ...    0.00     0.00    0.00     0.00     0.00   \n",
              "4870  0.00  0.00  0.00  ...    0.00     0.00    0.00     0.00     0.00   \n",
              "4871  0.00  1.82  0.62  ...  103.78   415.11  259.44   518.89   415.11   \n",
              "4872  8.93  3.72  3.54  ...    0.00     0.00    0.00  2978.11  2978.11   \n",
              "4873  0.00  0.00  2.11  ...    0.00     0.00    0.00     0.00     0.00   \n",
              "\n",
              "           x52       x53      x54   x55  data_quality  \n",
              "0      2619.46   1068.90   586.35  7.96             1  \n",
              "1     17333.09   9174.88  1382.83  5.01             1  \n",
              "2      2694.05   1269.44   483.19  9.15             1  \n",
              "3      3536.04   2596.44   419.02  7.80             1  \n",
              "4     21847.94  10832.90  2672.23  3.47             1  \n",
              "...        ...       ...      ...   ...           ...  \n",
              "4869      0.00      0.00     0.00  0.00             0  \n",
              "4870      0.00      0.00     0.00  0.00             0  \n",
              "4871      0.00      0.00     0.00  0.00             0  \n",
              "4872      0.00      0.00     0.00  6.53             0  \n",
              "4873      0.00      0.00     0.00  0.00             0  \n",
              "\n",
              "[4874 rows x 59 columns]"
            ],
            "text/html": [
              "\n",
              "\n",
              "  <div id=\"df-d198f69b-96c2-49df-a857-85fc6055fd0c\">\n",
              "    <div class=\"colab-df-container\">\n",
              "      <div>\n",
              "<style scoped>\n",
              "    .dataframe tbody tr th:only-of-type {\n",
              "        vertical-align: middle;\n",
              "    }\n",
              "\n",
              "    .dataframe tbody tr th {\n",
              "        vertical-align: top;\n",
              "    }\n",
              "\n",
              "    .dataframe thead th {\n",
              "        text-align: right;\n",
              "    }\n",
              "</style>\n",
              "<table border=\"1\" class=\"dataframe\">\n",
              "  <thead>\n",
              "    <tr style=\"text-align: right;\">\n",
              "      <th></th>\n",
              "      <th>Unnamed: 0</th>\n",
              "      <th>city</th>\n",
              "      <th>country</th>\n",
              "      <th>x1</th>\n",
              "      <th>x2</th>\n",
              "      <th>x3</th>\n",
              "      <th>x4</th>\n",
              "      <th>x5</th>\n",
              "      <th>x6</th>\n",
              "      <th>x7</th>\n",
              "      <th>...</th>\n",
              "      <th>x47</th>\n",
              "      <th>x48</th>\n",
              "      <th>x49</th>\n",
              "      <th>x50</th>\n",
              "      <th>x51</th>\n",
              "      <th>x52</th>\n",
              "      <th>x53</th>\n",
              "      <th>x54</th>\n",
              "      <th>x55</th>\n",
              "      <th>data_quality</th>\n",
              "    </tr>\n",
              "  </thead>\n",
              "  <tbody>\n",
              "    <tr>\n",
              "      <th>0</th>\n",
              "      <td>0</td>\n",
              "      <td>Delhi</td>\n",
              "      <td>India</td>\n",
              "      <td>4.90</td>\n",
              "      <td>22.04</td>\n",
              "      <td>4.28</td>\n",
              "      <td>1.84</td>\n",
              "      <td>3.67</td>\n",
              "      <td>1.78</td>\n",
              "      <td>0.48</td>\n",
              "      <td>...</td>\n",
              "      <td>36.26</td>\n",
              "      <td>223.87</td>\n",
              "      <td>133.38</td>\n",
              "      <td>596.16</td>\n",
              "      <td>325.82</td>\n",
              "      <td>2619.46</td>\n",
              "      <td>1068.90</td>\n",
              "      <td>586.35</td>\n",
              "      <td>7.96</td>\n",
              "      <td>1</td>\n",
              "    </tr>\n",
              "    <tr>\n",
              "      <th>1</th>\n",
              "      <td>1</td>\n",
              "      <td>Shanghai</td>\n",
              "      <td>China</td>\n",
              "      <td>5.59</td>\n",
              "      <td>40.51</td>\n",
              "      <td>5.59</td>\n",
              "      <td>1.12</td>\n",
              "      <td>4.19</td>\n",
              "      <td>3.96</td>\n",
              "      <td>0.52</td>\n",
              "      <td>...</td>\n",
              "      <td>121.19</td>\n",
              "      <td>1080.07</td>\n",
              "      <td>564.30</td>\n",
              "      <td>2972.57</td>\n",
              "      <td>1532.23</td>\n",
              "      <td>17333.09</td>\n",
              "      <td>9174.88</td>\n",
              "      <td>1382.83</td>\n",
              "      <td>5.01</td>\n",
              "      <td>1</td>\n",
              "    </tr>\n",
              "    <tr>\n",
              "      <th>2</th>\n",
              "      <td>2</td>\n",
              "      <td>Jakarta</td>\n",
              "      <td>Indonesia</td>\n",
              "      <td>2.54</td>\n",
              "      <td>22.25</td>\n",
              "      <td>3.50</td>\n",
              "      <td>2.02</td>\n",
              "      <td>3.18</td>\n",
              "      <td>2.19</td>\n",
              "      <td>0.59</td>\n",
              "      <td>...</td>\n",
              "      <td>80.32</td>\n",
              "      <td>482.85</td>\n",
              "      <td>270.15</td>\n",
              "      <td>1117.69</td>\n",
              "      <td>584.37</td>\n",
              "      <td>2694.05</td>\n",
              "      <td>1269.44</td>\n",
              "      <td>483.19</td>\n",
              "      <td>9.15</td>\n",
              "      <td>1</td>\n",
              "    </tr>\n",
              "    <tr>\n",
              "      <th>3</th>\n",
              "      <td>3</td>\n",
              "      <td>Manila</td>\n",
              "      <td>Philippines</td>\n",
              "      <td>3.54</td>\n",
              "      <td>27.40</td>\n",
              "      <td>3.54</td>\n",
              "      <td>1.24</td>\n",
              "      <td>1.90</td>\n",
              "      <td>2.91</td>\n",
              "      <td>0.93</td>\n",
              "      <td>...</td>\n",
              "      <td>61.82</td>\n",
              "      <td>559.52</td>\n",
              "      <td>281.78</td>\n",
              "      <td>1754.40</td>\n",
              "      <td>684.81</td>\n",
              "      <td>3536.04</td>\n",
              "      <td>2596.44</td>\n",
              "      <td>419.02</td>\n",
              "      <td>7.80</td>\n",
              "      <td>1</td>\n",
              "    </tr>\n",
              "    <tr>\n",
              "      <th>4</th>\n",
              "      <td>4</td>\n",
              "      <td>Seoul</td>\n",
              "      <td>South Korea</td>\n",
              "      <td>7.16</td>\n",
              "      <td>52.77</td>\n",
              "      <td>6.03</td>\n",
              "      <td>3.02</td>\n",
              "      <td>4.52</td>\n",
              "      <td>3.86</td>\n",
              "      <td>1.46</td>\n",
              "      <td>...</td>\n",
              "      <td>108.30</td>\n",
              "      <td>809.83</td>\n",
              "      <td>583.60</td>\n",
              "      <td>2621.05</td>\n",
              "      <td>1683.74</td>\n",
              "      <td>21847.94</td>\n",
              "      <td>10832.90</td>\n",
              "      <td>2672.23</td>\n",
              "      <td>3.47</td>\n",
              "      <td>1</td>\n",
              "    </tr>\n",
              "    <tr>\n",
              "      <th>...</th>\n",
              "      <td>...</td>\n",
              "      <td>...</td>\n",
              "      <td>...</td>\n",
              "      <td>...</td>\n",
              "      <td>...</td>\n",
              "      <td>...</td>\n",
              "      <td>...</td>\n",
              "      <td>...</td>\n",
              "      <td>...</td>\n",
              "      <td>...</td>\n",
              "      <td>...</td>\n",
              "      <td>...</td>\n",
              "      <td>...</td>\n",
              "      <td>...</td>\n",
              "      <td>...</td>\n",
              "      <td>...</td>\n",
              "      <td>...</td>\n",
              "      <td>...</td>\n",
              "      <td>...</td>\n",
              "      <td>...</td>\n",
              "      <td>...</td>\n",
              "    </tr>\n",
              "    <tr>\n",
              "      <th>4869</th>\n",
              "      <td>4869</td>\n",
              "      <td>Peterborough</td>\n",
              "      <td>Australia</td>\n",
              "      <td>0.00</td>\n",
              "      <td>0.00</td>\n",
              "      <td>0.00</td>\n",
              "      <td>0.00</td>\n",
              "      <td>0.00</td>\n",
              "      <td>0.00</td>\n",
              "      <td>0.00</td>\n",
              "      <td>...</td>\n",
              "      <td>0.00</td>\n",
              "      <td>0.00</td>\n",
              "      <td>0.00</td>\n",
              "      <td>0.00</td>\n",
              "      <td>0.00</td>\n",
              "      <td>0.00</td>\n",
              "      <td>0.00</td>\n",
              "      <td>0.00</td>\n",
              "      <td>0.00</td>\n",
              "      <td>0</td>\n",
              "    </tr>\n",
              "    <tr>\n",
              "      <th>4870</th>\n",
              "      <td>4870</td>\n",
              "      <td>Georgetown</td>\n",
              "      <td>Australia</td>\n",
              "      <td>0.00</td>\n",
              "      <td>0.00</td>\n",
              "      <td>0.00</td>\n",
              "      <td>0.00</td>\n",
              "      <td>0.00</td>\n",
              "      <td>0.00</td>\n",
              "      <td>0.00</td>\n",
              "      <td>...</td>\n",
              "      <td>0.00</td>\n",
              "      <td>0.00</td>\n",
              "      <td>0.00</td>\n",
              "      <td>0.00</td>\n",
              "      <td>0.00</td>\n",
              "      <td>0.00</td>\n",
              "      <td>0.00</td>\n",
              "      <td>0.00</td>\n",
              "      <td>0.00</td>\n",
              "      <td>0</td>\n",
              "    </tr>\n",
              "    <tr>\n",
              "      <th>4871</th>\n",
              "      <td>4871</td>\n",
              "      <td>Ixtapa Zihuatanejo</td>\n",
              "      <td>Mexico</td>\n",
              "      <td>5.19</td>\n",
              "      <td>31.13</td>\n",
              "      <td>12.97</td>\n",
              "      <td>0.99</td>\n",
              "      <td>0.00</td>\n",
              "      <td>1.82</td>\n",
              "      <td>0.62</td>\n",
              "      <td>...</td>\n",
              "      <td>103.78</td>\n",
              "      <td>415.11</td>\n",
              "      <td>259.44</td>\n",
              "      <td>518.89</td>\n",
              "      <td>415.11</td>\n",
              "      <td>0.00</td>\n",
              "      <td>0.00</td>\n",
              "      <td>0.00</td>\n",
              "      <td>0.00</td>\n",
              "      <td>0</td>\n",
              "    </tr>\n",
              "    <tr>\n",
              "      <th>4872</th>\n",
              "      <td>4872</td>\n",
              "      <td>Iqaluit</td>\n",
              "      <td>Canada</td>\n",
              "      <td>29.78</td>\n",
              "      <td>74.61</td>\n",
              "      <td>13.77</td>\n",
              "      <td>6.70</td>\n",
              "      <td>8.93</td>\n",
              "      <td>3.72</td>\n",
              "      <td>3.54</td>\n",
              "      <td>...</td>\n",
              "      <td>0.00</td>\n",
              "      <td>0.00</td>\n",
              "      <td>0.00</td>\n",
              "      <td>2978.11</td>\n",
              "      <td>2978.11</td>\n",
              "      <td>0.00</td>\n",
              "      <td>0.00</td>\n",
              "      <td>0.00</td>\n",
              "      <td>6.53</td>\n",
              "      <td>0</td>\n",
              "    </tr>\n",
              "    <tr>\n",
              "      <th>4873</th>\n",
              "      <td>4873</td>\n",
              "      <td>Neiafu</td>\n",
              "      <td>Tonga</td>\n",
              "      <td>0.00</td>\n",
              "      <td>29.53</td>\n",
              "      <td>10.55</td>\n",
              "      <td>10.55</td>\n",
              "      <td>0.00</td>\n",
              "      <td>0.00</td>\n",
              "      <td>2.11</td>\n",
              "      <td>...</td>\n",
              "      <td>0.00</td>\n",
              "      <td>0.00</td>\n",
              "      <td>0.00</td>\n",
              "      <td>0.00</td>\n",
              "      <td>0.00</td>\n",
              "      <td>0.00</td>\n",
              "      <td>0.00</td>\n",
              "      <td>0.00</td>\n",
              "      <td>0.00</td>\n",
              "      <td>0</td>\n",
              "    </tr>\n",
              "  </tbody>\n",
              "</table>\n",
              "<p>4874 rows × 59 columns</p>\n",
              "</div>\n",
              "      <button class=\"colab-df-convert\" onclick=\"convertToInteractive('df-d198f69b-96c2-49df-a857-85fc6055fd0c')\"\n",
              "              title=\"Convert this dataframe to an interactive table.\"\n",
              "              style=\"display:none;\">\n",
              "\n",
              "  <svg xmlns=\"http://www.w3.org/2000/svg\" height=\"24px\"viewBox=\"0 0 24 24\"\n",
              "       width=\"24px\">\n",
              "    <path d=\"M0 0h24v24H0V0z\" fill=\"none\"/>\n",
              "    <path d=\"M18.56 5.44l.94 2.06.94-2.06 2.06-.94-2.06-.94-.94-2.06-.94 2.06-2.06.94zm-11 1L8.5 8.5l.94-2.06 2.06-.94-2.06-.94L8.5 2.5l-.94 2.06-2.06.94zm10 10l.94 2.06.94-2.06 2.06-.94-2.06-.94-.94-2.06-.94 2.06-2.06.94z\"/><path d=\"M17.41 7.96l-1.37-1.37c-.4-.4-.92-.59-1.43-.59-.52 0-1.04.2-1.43.59L10.3 9.45l-7.72 7.72c-.78.78-.78 2.05 0 2.83L4 21.41c.39.39.9.59 1.41.59.51 0 1.02-.2 1.41-.59l7.78-7.78 2.81-2.81c.8-.78.8-2.07 0-2.86zM5.41 20L4 18.59l7.72-7.72 1.47 1.35L5.41 20z\"/>\n",
              "  </svg>\n",
              "      </button>\n",
              "\n",
              "\n",
              "\n",
              "    <div id=\"df-d6b9d658-7c3a-42f8-b896-3b064e018dbf\">\n",
              "      <button class=\"colab-df-quickchart\" onclick=\"quickchart('df-d6b9d658-7c3a-42f8-b896-3b064e018dbf')\"\n",
              "              title=\"Suggest charts.\"\n",
              "              style=\"display:none;\">\n",
              "\n",
              "<svg xmlns=\"http://www.w3.org/2000/svg\" height=\"24px\"viewBox=\"0 0 24 24\"\n",
              "     width=\"24px\">\n",
              "    <g>\n",
              "        <path d=\"M19 3H5c-1.1 0-2 .9-2 2v14c0 1.1.9 2 2 2h14c1.1 0 2-.9 2-2V5c0-1.1-.9-2-2-2zM9 17H7v-7h2v7zm4 0h-2V7h2v10zm4 0h-2v-4h2v4z\"/>\n",
              "    </g>\n",
              "</svg>\n",
              "      </button>\n",
              "    </div>\n",
              "\n",
              "<style>\n",
              "  .colab-df-quickchart {\n",
              "    background-color: #E8F0FE;\n",
              "    border: none;\n",
              "    border-radius: 50%;\n",
              "    cursor: pointer;\n",
              "    display: none;\n",
              "    fill: #1967D2;\n",
              "    height: 32px;\n",
              "    padding: 0 0 0 0;\n",
              "    width: 32px;\n",
              "  }\n",
              "\n",
              "  .colab-df-quickchart:hover {\n",
              "    background-color: #E2EBFA;\n",
              "    box-shadow: 0px 1px 2px rgba(60, 64, 67, 0.3), 0px 1px 3px 1px rgba(60, 64, 67, 0.15);\n",
              "    fill: #174EA6;\n",
              "  }\n",
              "\n",
              "  [theme=dark] .colab-df-quickchart {\n",
              "    background-color: #3B4455;\n",
              "    fill: #D2E3FC;\n",
              "  }\n",
              "\n",
              "  [theme=dark] .colab-df-quickchart:hover {\n",
              "    background-color: #434B5C;\n",
              "    box-shadow: 0px 1px 3px 1px rgba(0, 0, 0, 0.15);\n",
              "    filter: drop-shadow(0px 1px 2px rgba(0, 0, 0, 0.3));\n",
              "    fill: #FFFFFF;\n",
              "  }\n",
              "</style>\n",
              "\n",
              "    <script>\n",
              "      async function quickchart(key) {\n",
              "        const containerElement = document.querySelector('#' + key);\n",
              "        const charts = await google.colab.kernel.invokeFunction(\n",
              "            'suggestCharts', [key], {});\n",
              "      }\n",
              "    </script>\n",
              "\n",
              "      <script>\n",
              "\n",
              "function displayQuickchartButton(domScope) {\n",
              "  let quickchartButtonEl =\n",
              "    domScope.querySelector('#df-d6b9d658-7c3a-42f8-b896-3b064e018dbf button.colab-df-quickchart');\n",
              "  quickchartButtonEl.style.display =\n",
              "    google.colab.kernel.accessAllowed ? 'block' : 'none';\n",
              "}\n",
              "\n",
              "        displayQuickchartButton(document);\n",
              "      </script>\n",
              "      <style>\n",
              "    .colab-df-container {\n",
              "      display:flex;\n",
              "      flex-wrap:wrap;\n",
              "      gap: 12px;\n",
              "    }\n",
              "\n",
              "    .colab-df-convert {\n",
              "      background-color: #E8F0FE;\n",
              "      border: none;\n",
              "      border-radius: 50%;\n",
              "      cursor: pointer;\n",
              "      display: none;\n",
              "      fill: #1967D2;\n",
              "      height: 32px;\n",
              "      padding: 0 0 0 0;\n",
              "      width: 32px;\n",
              "    }\n",
              "\n",
              "    .colab-df-convert:hover {\n",
              "      background-color: #E2EBFA;\n",
              "      box-shadow: 0px 1px 2px rgba(60, 64, 67, 0.3), 0px 1px 3px 1px rgba(60, 64, 67, 0.15);\n",
              "      fill: #174EA6;\n",
              "    }\n",
              "\n",
              "    [theme=dark] .colab-df-convert {\n",
              "      background-color: #3B4455;\n",
              "      fill: #D2E3FC;\n",
              "    }\n",
              "\n",
              "    [theme=dark] .colab-df-convert:hover {\n",
              "      background-color: #434B5C;\n",
              "      box-shadow: 0px 1px 3px 1px rgba(0, 0, 0, 0.15);\n",
              "      filter: drop-shadow(0px 1px 2px rgba(0, 0, 0, 0.3));\n",
              "      fill: #FFFFFF;\n",
              "    }\n",
              "  </style>\n",
              "\n",
              "      <script>\n",
              "        const buttonEl =\n",
              "          document.querySelector('#df-d198f69b-96c2-49df-a857-85fc6055fd0c button.colab-df-convert');\n",
              "        buttonEl.style.display =\n",
              "          google.colab.kernel.accessAllowed ? 'block' : 'none';\n",
              "\n",
              "        async function convertToInteractive(key) {\n",
              "          const element = document.querySelector('#df-d198f69b-96c2-49df-a857-85fc6055fd0c');\n",
              "          const dataTable =\n",
              "            await google.colab.kernel.invokeFunction('convertToInteractive',\n",
              "                                                     [key], {});\n",
              "          if (!dataTable) return;\n",
              "\n",
              "          const docLinkHtml = 'Like what you see? Visit the ' +\n",
              "            '<a target=\"_blank\" href=https://colab.research.google.com/notebooks/data_table.ipynb>data table notebook</a>'\n",
              "            + ' to learn more about interactive tables.';\n",
              "          element.innerHTML = '';\n",
              "          dataTable['output_type'] = 'display_data';\n",
              "          await google.colab.output.renderOutput(dataTable, element);\n",
              "          const docLink = document.createElement('div');\n",
              "          docLink.innerHTML = docLinkHtml;\n",
              "          element.appendChild(docLink);\n",
              "        }\n",
              "      </script>\n",
              "    </div>\n",
              "  </div>\n"
            ]
          },
          "metadata": {},
          "execution_count": 28
        }
      ]
    },
    {
      "cell_type": "code",
      "source": [
        "X=data.iloc[:,3:-1].values\n",
        "y=data.iloc[:,-1].values"
      ],
      "metadata": {
        "id": "JjS_V2aDS2yg"
      },
      "execution_count": null,
      "outputs": []
    },
    {
      "cell_type": "code",
      "source": [
        "from sklearn.model_selection import train_test_split\n",
        "xtrain,xtest,ytrain,ytest=train_test_split(X,y,test_size=0.2)"
      ],
      "metadata": {
        "id": "lF3QC9ZvS20_"
      },
      "execution_count": null,
      "outputs": []
    },
    {
      "cell_type": "code",
      "source": [
        "from sklearn.ensemble import RandomForestRegressor\n",
        "rreg=RandomForestRegressor(n_estimators=10)"
      ],
      "metadata": {
        "id": "4l1dm6M9S23S"
      },
      "execution_count": null,
      "outputs": []
    },
    {
      "cell_type": "code",
      "source": [
        "rreg.fit(xtrain,ytrain)"
      ],
      "metadata": {
        "colab": {
          "base_uri": "https://localhost:8080/",
          "height": 74
        },
        "id": "lSuwLkxaTZvK",
        "outputId": "01ac73f7-2c4a-4127-9ebf-5c4650c446c6"
      },
      "execution_count": null,
      "outputs": [
        {
          "output_type": "execute_result",
          "data": {
            "text/plain": [
              "RandomForestRegressor(n_estimators=10)"
            ],
            "text/html": [
              "<style>#sk-container-id-2 {color: black;background-color: white;}#sk-container-id-2 pre{padding: 0;}#sk-container-id-2 div.sk-toggleable {background-color: white;}#sk-container-id-2 label.sk-toggleable__label {cursor: pointer;display: block;width: 100%;margin-bottom: 0;padding: 0.3em;box-sizing: border-box;text-align: center;}#sk-container-id-2 label.sk-toggleable__label-arrow:before {content: \"▸\";float: left;margin-right: 0.25em;color: #696969;}#sk-container-id-2 label.sk-toggleable__label-arrow:hover:before {color: black;}#sk-container-id-2 div.sk-estimator:hover label.sk-toggleable__label-arrow:before {color: black;}#sk-container-id-2 div.sk-toggleable__content {max-height: 0;max-width: 0;overflow: hidden;text-align: left;background-color: #f0f8ff;}#sk-container-id-2 div.sk-toggleable__content pre {margin: 0.2em;color: black;border-radius: 0.25em;background-color: #f0f8ff;}#sk-container-id-2 input.sk-toggleable__control:checked~div.sk-toggleable__content {max-height: 200px;max-width: 100%;overflow: auto;}#sk-container-id-2 input.sk-toggleable__control:checked~label.sk-toggleable__label-arrow:before {content: \"▾\";}#sk-container-id-2 div.sk-estimator input.sk-toggleable__control:checked~label.sk-toggleable__label {background-color: #d4ebff;}#sk-container-id-2 div.sk-label input.sk-toggleable__control:checked~label.sk-toggleable__label {background-color: #d4ebff;}#sk-container-id-2 input.sk-hidden--visually {border: 0;clip: rect(1px 1px 1px 1px);clip: rect(1px, 1px, 1px, 1px);height: 1px;margin: -1px;overflow: hidden;padding: 0;position: absolute;width: 1px;}#sk-container-id-2 div.sk-estimator {font-family: monospace;background-color: #f0f8ff;border: 1px dotted black;border-radius: 0.25em;box-sizing: border-box;margin-bottom: 0.5em;}#sk-container-id-2 div.sk-estimator:hover {background-color: #d4ebff;}#sk-container-id-2 div.sk-parallel-item::after {content: \"\";width: 100%;border-bottom: 1px solid gray;flex-grow: 1;}#sk-container-id-2 div.sk-label:hover label.sk-toggleable__label {background-color: #d4ebff;}#sk-container-id-2 div.sk-serial::before {content: \"\";position: absolute;border-left: 1px solid gray;box-sizing: border-box;top: 0;bottom: 0;left: 50%;z-index: 0;}#sk-container-id-2 div.sk-serial {display: flex;flex-direction: column;align-items: center;background-color: white;padding-right: 0.2em;padding-left: 0.2em;position: relative;}#sk-container-id-2 div.sk-item {position: relative;z-index: 1;}#sk-container-id-2 div.sk-parallel {display: flex;align-items: stretch;justify-content: center;background-color: white;position: relative;}#sk-container-id-2 div.sk-item::before, #sk-container-id-2 div.sk-parallel-item::before {content: \"\";position: absolute;border-left: 1px solid gray;box-sizing: border-box;top: 0;bottom: 0;left: 50%;z-index: -1;}#sk-container-id-2 div.sk-parallel-item {display: flex;flex-direction: column;z-index: 1;position: relative;background-color: white;}#sk-container-id-2 div.sk-parallel-item:first-child::after {align-self: flex-end;width: 50%;}#sk-container-id-2 div.sk-parallel-item:last-child::after {align-self: flex-start;width: 50%;}#sk-container-id-2 div.sk-parallel-item:only-child::after {width: 0;}#sk-container-id-2 div.sk-dashed-wrapped {border: 1px dashed gray;margin: 0 0.4em 0.5em 0.4em;box-sizing: border-box;padding-bottom: 0.4em;background-color: white;}#sk-container-id-2 div.sk-label label {font-family: monospace;font-weight: bold;display: inline-block;line-height: 1.2em;}#sk-container-id-2 div.sk-label-container {text-align: center;}#sk-container-id-2 div.sk-container {/* jupyter's `normalize.less` sets `[hidden] { display: none; }` but bootstrap.min.css set `[hidden] { display: none !important; }` so we also need the `!important` here to be able to override the default hidden behavior on the sphinx rendered scikit-learn.org. See: https://github.com/scikit-learn/scikit-learn/issues/21755 */display: inline-block !important;position: relative;}#sk-container-id-2 div.sk-text-repr-fallback {display: none;}</style><div id=\"sk-container-id-2\" class=\"sk-top-container\"><div class=\"sk-text-repr-fallback\"><pre>RandomForestRegressor(n_estimators=10)</pre><b>In a Jupyter environment, please rerun this cell to show the HTML representation or trust the notebook. <br />On GitHub, the HTML representation is unable to render, please try loading this page with nbviewer.org.</b></div><div class=\"sk-container\" hidden><div class=\"sk-item\"><div class=\"sk-estimator sk-toggleable\"><input class=\"sk-toggleable__control sk-hidden--visually\" id=\"sk-estimator-id-2\" type=\"checkbox\" checked><label for=\"sk-estimator-id-2\" class=\"sk-toggleable__label sk-toggleable__label-arrow\">RandomForestRegressor</label><div class=\"sk-toggleable__content\"><pre>RandomForestRegressor(n_estimators=10)</pre></div></div></div></div></div>"
            ]
          },
          "metadata": {},
          "execution_count": 32
        }
      ]
    },
    {
      "cell_type": "code",
      "source": [
        "pred=rreg.predict(xtest)\n",
        "from sklearn.metrics import r2_score,mean_squared_error"
      ],
      "metadata": {
        "id": "c_UIrbJOTZyk"
      },
      "execution_count": null,
      "outputs": []
    },
    {
      "cell_type": "code",
      "source": [
        "score=r2_score(ytest,pred)\n",
        "rmse=np.sqrt(mean_squared_error(ytest,pred))\n",
        "score"
      ],
      "metadata": {
        "colab": {
          "base_uri": "https://localhost:8080/"
        },
        "id": "hssnIjhVTZ3x",
        "outputId": "4dae6c49-e750-461a-c21c-979e8b4c34d2"
      },
      "execution_count": null,
      "outputs": [
        {
          "output_type": "execute_result",
          "data": {
            "text/plain": [
              "0.4810933279396604"
            ]
          },
          "metadata": {},
          "execution_count": 34
        }
      ]
    },
    {
      "cell_type": "code",
      "source": [
        "rmse"
      ],
      "metadata": {
        "colab": {
          "base_uri": "https://localhost:8080/"
        },
        "id": "s_8XG-0sTZ7O",
        "outputId": "5daba640-56d3-4832-db08-523d739a3b67"
      },
      "execution_count": null,
      "outputs": [
        {
          "output_type": "execute_result",
          "data": {
            "text/plain": [
              "0.28924304392938904"
            ]
          },
          "metadata": {},
          "execution_count": 35
        }
      ]
    },
    {
      "cell_type": "markdown",
      "source": [
        "5.support vector regression"
      ],
      "metadata": {
        "id": "6s3iNjpRTvb_"
      }
    },
    {
      "cell_type": "code",
      "source": [
        "import numpy as np\n",
        "import pandas as pd"
      ],
      "metadata": {
        "id": "0Iy3gVoQT0wk"
      },
      "execution_count": null,
      "outputs": []
    },
    {
      "cell_type": "code",
      "source": [
        "data=pd.read_csv('/content/cost-of-living.csv')\n",
        "data=data.fillna(value=0)\n",
        "data"
      ],
      "metadata": {
        "colab": {
          "base_uri": "https://localhost:8080/",
          "height": 539
        },
        "id": "i2-qAtXNT0z5",
        "outputId": "7db0f816-04d4-4db0-f800-27e8e973919f"
      },
      "execution_count": null,
      "outputs": [
        {
          "output_type": "execute_result",
          "data": {
            "text/plain": [
              "      Unnamed: 0                city      country     x1     x2     x3     x4  \\\n",
              "0              0               Delhi        India   4.90  22.04   4.28   1.84   \n",
              "1              1            Shanghai        China   5.59  40.51   5.59   1.12   \n",
              "2              2             Jakarta    Indonesia   2.54  22.25   3.50   2.02   \n",
              "3              3              Manila  Philippines   3.54  27.40   3.54   1.24   \n",
              "4              4               Seoul  South Korea   7.16  52.77   6.03   3.02   \n",
              "...          ...                 ...          ...    ...    ...    ...    ...   \n",
              "4869        4869        Peterborough    Australia   0.00   0.00   0.00   0.00   \n",
              "4870        4870          Georgetown    Australia   0.00   0.00   0.00   0.00   \n",
              "4871        4871  Ixtapa Zihuatanejo       Mexico   5.19  31.13  12.97   0.99   \n",
              "4872        4872             Iqaluit       Canada  29.78  74.61  13.77   6.70   \n",
              "4873        4873              Neiafu        Tonga   0.00  29.53  10.55  10.55   \n",
              "\n",
              "        x5    x6    x7  ...     x47      x48     x49      x50      x51  \\\n",
              "0     3.67  1.78  0.48  ...   36.26   223.87  133.38   596.16   325.82   \n",
              "1     4.19  3.96  0.52  ...  121.19  1080.07  564.30  2972.57  1532.23   \n",
              "2     3.18  2.19  0.59  ...   80.32   482.85  270.15  1117.69   584.37   \n",
              "3     1.90  2.91  0.93  ...   61.82   559.52  281.78  1754.40   684.81   \n",
              "4     4.52  3.86  1.46  ...  108.30   809.83  583.60  2621.05  1683.74   \n",
              "...    ...   ...   ...  ...     ...      ...     ...      ...      ...   \n",
              "4869  0.00  0.00  0.00  ...    0.00     0.00    0.00     0.00     0.00   \n",
              "4870  0.00  0.00  0.00  ...    0.00     0.00    0.00     0.00     0.00   \n",
              "4871  0.00  1.82  0.62  ...  103.78   415.11  259.44   518.89   415.11   \n",
              "4872  8.93  3.72  3.54  ...    0.00     0.00    0.00  2978.11  2978.11   \n",
              "4873  0.00  0.00  2.11  ...    0.00     0.00    0.00     0.00     0.00   \n",
              "\n",
              "           x52       x53      x54   x55  data_quality  \n",
              "0      2619.46   1068.90   586.35  7.96             1  \n",
              "1     17333.09   9174.88  1382.83  5.01             1  \n",
              "2      2694.05   1269.44   483.19  9.15             1  \n",
              "3      3536.04   2596.44   419.02  7.80             1  \n",
              "4     21847.94  10832.90  2672.23  3.47             1  \n",
              "...        ...       ...      ...   ...           ...  \n",
              "4869      0.00      0.00     0.00  0.00             0  \n",
              "4870      0.00      0.00     0.00  0.00             0  \n",
              "4871      0.00      0.00     0.00  0.00             0  \n",
              "4872      0.00      0.00     0.00  6.53             0  \n",
              "4873      0.00      0.00     0.00  0.00             0  \n",
              "\n",
              "[4874 rows x 59 columns]"
            ],
            "text/html": [
              "\n",
              "\n",
              "  <div id=\"df-f395e8a0-4849-47f5-a991-e8cdfb7de6c4\">\n",
              "    <div class=\"colab-df-container\">\n",
              "      <div>\n",
              "<style scoped>\n",
              "    .dataframe tbody tr th:only-of-type {\n",
              "        vertical-align: middle;\n",
              "    }\n",
              "\n",
              "    .dataframe tbody tr th {\n",
              "        vertical-align: top;\n",
              "    }\n",
              "\n",
              "    .dataframe thead th {\n",
              "        text-align: right;\n",
              "    }\n",
              "</style>\n",
              "<table border=\"1\" class=\"dataframe\">\n",
              "  <thead>\n",
              "    <tr style=\"text-align: right;\">\n",
              "      <th></th>\n",
              "      <th>Unnamed: 0</th>\n",
              "      <th>city</th>\n",
              "      <th>country</th>\n",
              "      <th>x1</th>\n",
              "      <th>x2</th>\n",
              "      <th>x3</th>\n",
              "      <th>x4</th>\n",
              "      <th>x5</th>\n",
              "      <th>x6</th>\n",
              "      <th>x7</th>\n",
              "      <th>...</th>\n",
              "      <th>x47</th>\n",
              "      <th>x48</th>\n",
              "      <th>x49</th>\n",
              "      <th>x50</th>\n",
              "      <th>x51</th>\n",
              "      <th>x52</th>\n",
              "      <th>x53</th>\n",
              "      <th>x54</th>\n",
              "      <th>x55</th>\n",
              "      <th>data_quality</th>\n",
              "    </tr>\n",
              "  </thead>\n",
              "  <tbody>\n",
              "    <tr>\n",
              "      <th>0</th>\n",
              "      <td>0</td>\n",
              "      <td>Delhi</td>\n",
              "      <td>India</td>\n",
              "      <td>4.90</td>\n",
              "      <td>22.04</td>\n",
              "      <td>4.28</td>\n",
              "      <td>1.84</td>\n",
              "      <td>3.67</td>\n",
              "      <td>1.78</td>\n",
              "      <td>0.48</td>\n",
              "      <td>...</td>\n",
              "      <td>36.26</td>\n",
              "      <td>223.87</td>\n",
              "      <td>133.38</td>\n",
              "      <td>596.16</td>\n",
              "      <td>325.82</td>\n",
              "      <td>2619.46</td>\n",
              "      <td>1068.90</td>\n",
              "      <td>586.35</td>\n",
              "      <td>7.96</td>\n",
              "      <td>1</td>\n",
              "    </tr>\n",
              "    <tr>\n",
              "      <th>1</th>\n",
              "      <td>1</td>\n",
              "      <td>Shanghai</td>\n",
              "      <td>China</td>\n",
              "      <td>5.59</td>\n",
              "      <td>40.51</td>\n",
              "      <td>5.59</td>\n",
              "      <td>1.12</td>\n",
              "      <td>4.19</td>\n",
              "      <td>3.96</td>\n",
              "      <td>0.52</td>\n",
              "      <td>...</td>\n",
              "      <td>121.19</td>\n",
              "      <td>1080.07</td>\n",
              "      <td>564.30</td>\n",
              "      <td>2972.57</td>\n",
              "      <td>1532.23</td>\n",
              "      <td>17333.09</td>\n",
              "      <td>9174.88</td>\n",
              "      <td>1382.83</td>\n",
              "      <td>5.01</td>\n",
              "      <td>1</td>\n",
              "    </tr>\n",
              "    <tr>\n",
              "      <th>2</th>\n",
              "      <td>2</td>\n",
              "      <td>Jakarta</td>\n",
              "      <td>Indonesia</td>\n",
              "      <td>2.54</td>\n",
              "      <td>22.25</td>\n",
              "      <td>3.50</td>\n",
              "      <td>2.02</td>\n",
              "      <td>3.18</td>\n",
              "      <td>2.19</td>\n",
              "      <td>0.59</td>\n",
              "      <td>...</td>\n",
              "      <td>80.32</td>\n",
              "      <td>482.85</td>\n",
              "      <td>270.15</td>\n",
              "      <td>1117.69</td>\n",
              "      <td>584.37</td>\n",
              "      <td>2694.05</td>\n",
              "      <td>1269.44</td>\n",
              "      <td>483.19</td>\n",
              "      <td>9.15</td>\n",
              "      <td>1</td>\n",
              "    </tr>\n",
              "    <tr>\n",
              "      <th>3</th>\n",
              "      <td>3</td>\n",
              "      <td>Manila</td>\n",
              "      <td>Philippines</td>\n",
              "      <td>3.54</td>\n",
              "      <td>27.40</td>\n",
              "      <td>3.54</td>\n",
              "      <td>1.24</td>\n",
              "      <td>1.90</td>\n",
              "      <td>2.91</td>\n",
              "      <td>0.93</td>\n",
              "      <td>...</td>\n",
              "      <td>61.82</td>\n",
              "      <td>559.52</td>\n",
              "      <td>281.78</td>\n",
              "      <td>1754.40</td>\n",
              "      <td>684.81</td>\n",
              "      <td>3536.04</td>\n",
              "      <td>2596.44</td>\n",
              "      <td>419.02</td>\n",
              "      <td>7.80</td>\n",
              "      <td>1</td>\n",
              "    </tr>\n",
              "    <tr>\n",
              "      <th>4</th>\n",
              "      <td>4</td>\n",
              "      <td>Seoul</td>\n",
              "      <td>South Korea</td>\n",
              "      <td>7.16</td>\n",
              "      <td>52.77</td>\n",
              "      <td>6.03</td>\n",
              "      <td>3.02</td>\n",
              "      <td>4.52</td>\n",
              "      <td>3.86</td>\n",
              "      <td>1.46</td>\n",
              "      <td>...</td>\n",
              "      <td>108.30</td>\n",
              "      <td>809.83</td>\n",
              "      <td>583.60</td>\n",
              "      <td>2621.05</td>\n",
              "      <td>1683.74</td>\n",
              "      <td>21847.94</td>\n",
              "      <td>10832.90</td>\n",
              "      <td>2672.23</td>\n",
              "      <td>3.47</td>\n",
              "      <td>1</td>\n",
              "    </tr>\n",
              "    <tr>\n",
              "      <th>...</th>\n",
              "      <td>...</td>\n",
              "      <td>...</td>\n",
              "      <td>...</td>\n",
              "      <td>...</td>\n",
              "      <td>...</td>\n",
              "      <td>...</td>\n",
              "      <td>...</td>\n",
              "      <td>...</td>\n",
              "      <td>...</td>\n",
              "      <td>...</td>\n",
              "      <td>...</td>\n",
              "      <td>...</td>\n",
              "      <td>...</td>\n",
              "      <td>...</td>\n",
              "      <td>...</td>\n",
              "      <td>...</td>\n",
              "      <td>...</td>\n",
              "      <td>...</td>\n",
              "      <td>...</td>\n",
              "      <td>...</td>\n",
              "      <td>...</td>\n",
              "    </tr>\n",
              "    <tr>\n",
              "      <th>4869</th>\n",
              "      <td>4869</td>\n",
              "      <td>Peterborough</td>\n",
              "      <td>Australia</td>\n",
              "      <td>0.00</td>\n",
              "      <td>0.00</td>\n",
              "      <td>0.00</td>\n",
              "      <td>0.00</td>\n",
              "      <td>0.00</td>\n",
              "      <td>0.00</td>\n",
              "      <td>0.00</td>\n",
              "      <td>...</td>\n",
              "      <td>0.00</td>\n",
              "      <td>0.00</td>\n",
              "      <td>0.00</td>\n",
              "      <td>0.00</td>\n",
              "      <td>0.00</td>\n",
              "      <td>0.00</td>\n",
              "      <td>0.00</td>\n",
              "      <td>0.00</td>\n",
              "      <td>0.00</td>\n",
              "      <td>0</td>\n",
              "    </tr>\n",
              "    <tr>\n",
              "      <th>4870</th>\n",
              "      <td>4870</td>\n",
              "      <td>Georgetown</td>\n",
              "      <td>Australia</td>\n",
              "      <td>0.00</td>\n",
              "      <td>0.00</td>\n",
              "      <td>0.00</td>\n",
              "      <td>0.00</td>\n",
              "      <td>0.00</td>\n",
              "      <td>0.00</td>\n",
              "      <td>0.00</td>\n",
              "      <td>...</td>\n",
              "      <td>0.00</td>\n",
              "      <td>0.00</td>\n",
              "      <td>0.00</td>\n",
              "      <td>0.00</td>\n",
              "      <td>0.00</td>\n",
              "      <td>0.00</td>\n",
              "      <td>0.00</td>\n",
              "      <td>0.00</td>\n",
              "      <td>0.00</td>\n",
              "      <td>0</td>\n",
              "    </tr>\n",
              "    <tr>\n",
              "      <th>4871</th>\n",
              "      <td>4871</td>\n",
              "      <td>Ixtapa Zihuatanejo</td>\n",
              "      <td>Mexico</td>\n",
              "      <td>5.19</td>\n",
              "      <td>31.13</td>\n",
              "      <td>12.97</td>\n",
              "      <td>0.99</td>\n",
              "      <td>0.00</td>\n",
              "      <td>1.82</td>\n",
              "      <td>0.62</td>\n",
              "      <td>...</td>\n",
              "      <td>103.78</td>\n",
              "      <td>415.11</td>\n",
              "      <td>259.44</td>\n",
              "      <td>518.89</td>\n",
              "      <td>415.11</td>\n",
              "      <td>0.00</td>\n",
              "      <td>0.00</td>\n",
              "      <td>0.00</td>\n",
              "      <td>0.00</td>\n",
              "      <td>0</td>\n",
              "    </tr>\n",
              "    <tr>\n",
              "      <th>4872</th>\n",
              "      <td>4872</td>\n",
              "      <td>Iqaluit</td>\n",
              "      <td>Canada</td>\n",
              "      <td>29.78</td>\n",
              "      <td>74.61</td>\n",
              "      <td>13.77</td>\n",
              "      <td>6.70</td>\n",
              "      <td>8.93</td>\n",
              "      <td>3.72</td>\n",
              "      <td>3.54</td>\n",
              "      <td>...</td>\n",
              "      <td>0.00</td>\n",
              "      <td>0.00</td>\n",
              "      <td>0.00</td>\n",
              "      <td>2978.11</td>\n",
              "      <td>2978.11</td>\n",
              "      <td>0.00</td>\n",
              "      <td>0.00</td>\n",
              "      <td>0.00</td>\n",
              "      <td>6.53</td>\n",
              "      <td>0</td>\n",
              "    </tr>\n",
              "    <tr>\n",
              "      <th>4873</th>\n",
              "      <td>4873</td>\n",
              "      <td>Neiafu</td>\n",
              "      <td>Tonga</td>\n",
              "      <td>0.00</td>\n",
              "      <td>29.53</td>\n",
              "      <td>10.55</td>\n",
              "      <td>10.55</td>\n",
              "      <td>0.00</td>\n",
              "      <td>0.00</td>\n",
              "      <td>2.11</td>\n",
              "      <td>...</td>\n",
              "      <td>0.00</td>\n",
              "      <td>0.00</td>\n",
              "      <td>0.00</td>\n",
              "      <td>0.00</td>\n",
              "      <td>0.00</td>\n",
              "      <td>0.00</td>\n",
              "      <td>0.00</td>\n",
              "      <td>0.00</td>\n",
              "      <td>0.00</td>\n",
              "      <td>0</td>\n",
              "    </tr>\n",
              "  </tbody>\n",
              "</table>\n",
              "<p>4874 rows × 59 columns</p>\n",
              "</div>\n",
              "      <button class=\"colab-df-convert\" onclick=\"convertToInteractive('df-f395e8a0-4849-47f5-a991-e8cdfb7de6c4')\"\n",
              "              title=\"Convert this dataframe to an interactive table.\"\n",
              "              style=\"display:none;\">\n",
              "\n",
              "  <svg xmlns=\"http://www.w3.org/2000/svg\" height=\"24px\"viewBox=\"0 0 24 24\"\n",
              "       width=\"24px\">\n",
              "    <path d=\"M0 0h24v24H0V0z\" fill=\"none\"/>\n",
              "    <path d=\"M18.56 5.44l.94 2.06.94-2.06 2.06-.94-2.06-.94-.94-2.06-.94 2.06-2.06.94zm-11 1L8.5 8.5l.94-2.06 2.06-.94-2.06-.94L8.5 2.5l-.94 2.06-2.06.94zm10 10l.94 2.06.94-2.06 2.06-.94-2.06-.94-.94-2.06-.94 2.06-2.06.94z\"/><path d=\"M17.41 7.96l-1.37-1.37c-.4-.4-.92-.59-1.43-.59-.52 0-1.04.2-1.43.59L10.3 9.45l-7.72 7.72c-.78.78-.78 2.05 0 2.83L4 21.41c.39.39.9.59 1.41.59.51 0 1.02-.2 1.41-.59l7.78-7.78 2.81-2.81c.8-.78.8-2.07 0-2.86zM5.41 20L4 18.59l7.72-7.72 1.47 1.35L5.41 20z\"/>\n",
              "  </svg>\n",
              "      </button>\n",
              "\n",
              "\n",
              "\n",
              "    <div id=\"df-54ef63d0-e4d3-43af-b78b-1d9520b469c2\">\n",
              "      <button class=\"colab-df-quickchart\" onclick=\"quickchart('df-54ef63d0-e4d3-43af-b78b-1d9520b469c2')\"\n",
              "              title=\"Suggest charts.\"\n",
              "              style=\"display:none;\">\n",
              "\n",
              "<svg xmlns=\"http://www.w3.org/2000/svg\" height=\"24px\"viewBox=\"0 0 24 24\"\n",
              "     width=\"24px\">\n",
              "    <g>\n",
              "        <path d=\"M19 3H5c-1.1 0-2 .9-2 2v14c0 1.1.9 2 2 2h14c1.1 0 2-.9 2-2V5c0-1.1-.9-2-2-2zM9 17H7v-7h2v7zm4 0h-2V7h2v10zm4 0h-2v-4h2v4z\"/>\n",
              "    </g>\n",
              "</svg>\n",
              "      </button>\n",
              "    </div>\n",
              "\n",
              "<style>\n",
              "  .colab-df-quickchart {\n",
              "    background-color: #E8F0FE;\n",
              "    border: none;\n",
              "    border-radius: 50%;\n",
              "    cursor: pointer;\n",
              "    display: none;\n",
              "    fill: #1967D2;\n",
              "    height: 32px;\n",
              "    padding: 0 0 0 0;\n",
              "    width: 32px;\n",
              "  }\n",
              "\n",
              "  .colab-df-quickchart:hover {\n",
              "    background-color: #E2EBFA;\n",
              "    box-shadow: 0px 1px 2px rgba(60, 64, 67, 0.3), 0px 1px 3px 1px rgba(60, 64, 67, 0.15);\n",
              "    fill: #174EA6;\n",
              "  }\n",
              "\n",
              "  [theme=dark] .colab-df-quickchart {\n",
              "    background-color: #3B4455;\n",
              "    fill: #D2E3FC;\n",
              "  }\n",
              "\n",
              "  [theme=dark] .colab-df-quickchart:hover {\n",
              "    background-color: #434B5C;\n",
              "    box-shadow: 0px 1px 3px 1px rgba(0, 0, 0, 0.15);\n",
              "    filter: drop-shadow(0px 1px 2px rgba(0, 0, 0, 0.3));\n",
              "    fill: #FFFFFF;\n",
              "  }\n",
              "</style>\n",
              "\n",
              "    <script>\n",
              "      async function quickchart(key) {\n",
              "        const containerElement = document.querySelector('#' + key);\n",
              "        const charts = await google.colab.kernel.invokeFunction(\n",
              "            'suggestCharts', [key], {});\n",
              "      }\n",
              "    </script>\n",
              "\n",
              "      <script>\n",
              "\n",
              "function displayQuickchartButton(domScope) {\n",
              "  let quickchartButtonEl =\n",
              "    domScope.querySelector('#df-54ef63d0-e4d3-43af-b78b-1d9520b469c2 button.colab-df-quickchart');\n",
              "  quickchartButtonEl.style.display =\n",
              "    google.colab.kernel.accessAllowed ? 'block' : 'none';\n",
              "}\n",
              "\n",
              "        displayQuickchartButton(document);\n",
              "      </script>\n",
              "      <style>\n",
              "    .colab-df-container {\n",
              "      display:flex;\n",
              "      flex-wrap:wrap;\n",
              "      gap: 12px;\n",
              "    }\n",
              "\n",
              "    .colab-df-convert {\n",
              "      background-color: #E8F0FE;\n",
              "      border: none;\n",
              "      border-radius: 50%;\n",
              "      cursor: pointer;\n",
              "      display: none;\n",
              "      fill: #1967D2;\n",
              "      height: 32px;\n",
              "      padding: 0 0 0 0;\n",
              "      width: 32px;\n",
              "    }\n",
              "\n",
              "    .colab-df-convert:hover {\n",
              "      background-color: #E2EBFA;\n",
              "      box-shadow: 0px 1px 2px rgba(60, 64, 67, 0.3), 0px 1px 3px 1px rgba(60, 64, 67, 0.15);\n",
              "      fill: #174EA6;\n",
              "    }\n",
              "\n",
              "    [theme=dark] .colab-df-convert {\n",
              "      background-color: #3B4455;\n",
              "      fill: #D2E3FC;\n",
              "    }\n",
              "\n",
              "    [theme=dark] .colab-df-convert:hover {\n",
              "      background-color: #434B5C;\n",
              "      box-shadow: 0px 1px 3px 1px rgba(0, 0, 0, 0.15);\n",
              "      filter: drop-shadow(0px 1px 2px rgba(0, 0, 0, 0.3));\n",
              "      fill: #FFFFFF;\n",
              "    }\n",
              "  </style>\n",
              "\n",
              "      <script>\n",
              "        const buttonEl =\n",
              "          document.querySelector('#df-f395e8a0-4849-47f5-a991-e8cdfb7de6c4 button.colab-df-convert');\n",
              "        buttonEl.style.display =\n",
              "          google.colab.kernel.accessAllowed ? 'block' : 'none';\n",
              "\n",
              "        async function convertToInteractive(key) {\n",
              "          const element = document.querySelector('#df-f395e8a0-4849-47f5-a991-e8cdfb7de6c4');\n",
              "          const dataTable =\n",
              "            await google.colab.kernel.invokeFunction('convertToInteractive',\n",
              "                                                     [key], {});\n",
              "          if (!dataTable) return;\n",
              "\n",
              "          const docLinkHtml = 'Like what you see? Visit the ' +\n",
              "            '<a target=\"_blank\" href=https://colab.research.google.com/notebooks/data_table.ipynb>data table notebook</a>'\n",
              "            + ' to learn more about interactive tables.';\n",
              "          element.innerHTML = '';\n",
              "          dataTable['output_type'] = 'display_data';\n",
              "          await google.colab.output.renderOutput(dataTable, element);\n",
              "          const docLink = document.createElement('div');\n",
              "          docLink.innerHTML = docLinkHtml;\n",
              "          element.appendChild(docLink);\n",
              "        }\n",
              "      </script>\n",
              "    </div>\n",
              "  </div>\n"
            ]
          },
          "metadata": {},
          "execution_count": 37
        }
      ]
    },
    {
      "cell_type": "code",
      "source": [
        "X=data.iloc[:,3:-1].values\n",
        "y=data.iloc[:,-1].values"
      ],
      "metadata": {
        "id": "B5rjNyabT03v"
      },
      "execution_count": null,
      "outputs": []
    },
    {
      "cell_type": "code",
      "source": [
        "from sklearn.preprocessing import StandardScaler"
      ],
      "metadata": {
        "id": "r_ZkwfbKT07Y"
      },
      "execution_count": null,
      "outputs": []
    },
    {
      "cell_type": "code",
      "source": [
        "x_sc=StandardScaler()\n",
        "y_sc=StandardScaler()\n",
        "y=y.reshape(len(y),1)"
      ],
      "metadata": {
        "id": "UetUZJv1T1Al"
      },
      "execution_count": null,
      "outputs": []
    },
    {
      "cell_type": "code",
      "source": [
        "X=x_sc.fit_transform(X)\n",
        "y=y_sc.fit_transform(y)"
      ],
      "metadata": {
        "id": "HQ_1FHBJU5FS"
      },
      "execution_count": null,
      "outputs": []
    },
    {
      "cell_type": "code",
      "source": [
        "from sklearn.svm import SVR"
      ],
      "metadata": {
        "id": "noUvNtvpU5Mz"
      },
      "execution_count": null,
      "outputs": []
    },
    {
      "cell_type": "code",
      "source": [
        "sreg=SVR(kernel='rbf')"
      ],
      "metadata": {
        "id": "iohgOns7U5RB"
      },
      "execution_count": null,
      "outputs": []
    },
    {
      "cell_type": "code",
      "source": [
        "sreg.fit(X,y)"
      ],
      "metadata": {
        "colab": {
          "base_uri": "https://localhost:8080/",
          "height": 131
        },
        "id": "2rTgs-ecU5UL",
        "outputId": "8acbd032-6b86-4e1e-c926-8c2e732b1d61"
      },
      "execution_count": null,
      "outputs": [
        {
          "output_type": "stream",
          "name": "stderr",
          "text": [
            "/usr/local/lib/python3.10/dist-packages/sklearn/utils/validation.py:1143: DataConversionWarning: A column-vector y was passed when a 1d array was expected. Please change the shape of y to (n_samples, ), for example using ravel().\n",
            "  y = column_or_1d(y, warn=True)\n"
          ]
        },
        {
          "output_type": "execute_result",
          "data": {
            "text/plain": [
              "SVR()"
            ],
            "text/html": [
              "<style>#sk-container-id-3 {color: black;background-color: white;}#sk-container-id-3 pre{padding: 0;}#sk-container-id-3 div.sk-toggleable {background-color: white;}#sk-container-id-3 label.sk-toggleable__label {cursor: pointer;display: block;width: 100%;margin-bottom: 0;padding: 0.3em;box-sizing: border-box;text-align: center;}#sk-container-id-3 label.sk-toggleable__label-arrow:before {content: \"▸\";float: left;margin-right: 0.25em;color: #696969;}#sk-container-id-3 label.sk-toggleable__label-arrow:hover:before {color: black;}#sk-container-id-3 div.sk-estimator:hover label.sk-toggleable__label-arrow:before {color: black;}#sk-container-id-3 div.sk-toggleable__content {max-height: 0;max-width: 0;overflow: hidden;text-align: left;background-color: #f0f8ff;}#sk-container-id-3 div.sk-toggleable__content pre {margin: 0.2em;color: black;border-radius: 0.25em;background-color: #f0f8ff;}#sk-container-id-3 input.sk-toggleable__control:checked~div.sk-toggleable__content {max-height: 200px;max-width: 100%;overflow: auto;}#sk-container-id-3 input.sk-toggleable__control:checked~label.sk-toggleable__label-arrow:before {content: \"▾\";}#sk-container-id-3 div.sk-estimator input.sk-toggleable__control:checked~label.sk-toggleable__label {background-color: #d4ebff;}#sk-container-id-3 div.sk-label input.sk-toggleable__control:checked~label.sk-toggleable__label {background-color: #d4ebff;}#sk-container-id-3 input.sk-hidden--visually {border: 0;clip: rect(1px 1px 1px 1px);clip: rect(1px, 1px, 1px, 1px);height: 1px;margin: -1px;overflow: hidden;padding: 0;position: absolute;width: 1px;}#sk-container-id-3 div.sk-estimator {font-family: monospace;background-color: #f0f8ff;border: 1px dotted black;border-radius: 0.25em;box-sizing: border-box;margin-bottom: 0.5em;}#sk-container-id-3 div.sk-estimator:hover {background-color: #d4ebff;}#sk-container-id-3 div.sk-parallel-item::after {content: \"\";width: 100%;border-bottom: 1px solid gray;flex-grow: 1;}#sk-container-id-3 div.sk-label:hover label.sk-toggleable__label {background-color: #d4ebff;}#sk-container-id-3 div.sk-serial::before {content: \"\";position: absolute;border-left: 1px solid gray;box-sizing: border-box;top: 0;bottom: 0;left: 50%;z-index: 0;}#sk-container-id-3 div.sk-serial {display: flex;flex-direction: column;align-items: center;background-color: white;padding-right: 0.2em;padding-left: 0.2em;position: relative;}#sk-container-id-3 div.sk-item {position: relative;z-index: 1;}#sk-container-id-3 div.sk-parallel {display: flex;align-items: stretch;justify-content: center;background-color: white;position: relative;}#sk-container-id-3 div.sk-item::before, #sk-container-id-3 div.sk-parallel-item::before {content: \"\";position: absolute;border-left: 1px solid gray;box-sizing: border-box;top: 0;bottom: 0;left: 50%;z-index: -1;}#sk-container-id-3 div.sk-parallel-item {display: flex;flex-direction: column;z-index: 1;position: relative;background-color: white;}#sk-container-id-3 div.sk-parallel-item:first-child::after {align-self: flex-end;width: 50%;}#sk-container-id-3 div.sk-parallel-item:last-child::after {align-self: flex-start;width: 50%;}#sk-container-id-3 div.sk-parallel-item:only-child::after {width: 0;}#sk-container-id-3 div.sk-dashed-wrapped {border: 1px dashed gray;margin: 0 0.4em 0.5em 0.4em;box-sizing: border-box;padding-bottom: 0.4em;background-color: white;}#sk-container-id-3 div.sk-label label {font-family: monospace;font-weight: bold;display: inline-block;line-height: 1.2em;}#sk-container-id-3 div.sk-label-container {text-align: center;}#sk-container-id-3 div.sk-container {/* jupyter's `normalize.less` sets `[hidden] { display: none; }` but bootstrap.min.css set `[hidden] { display: none !important; }` so we also need the `!important` here to be able to override the default hidden behavior on the sphinx rendered scikit-learn.org. See: https://github.com/scikit-learn/scikit-learn/issues/21755 */display: inline-block !important;position: relative;}#sk-container-id-3 div.sk-text-repr-fallback {display: none;}</style><div id=\"sk-container-id-3\" class=\"sk-top-container\"><div class=\"sk-text-repr-fallback\"><pre>SVR()</pre><b>In a Jupyter environment, please rerun this cell to show the HTML representation or trust the notebook. <br />On GitHub, the HTML representation is unable to render, please try loading this page with nbviewer.org.</b></div><div class=\"sk-container\" hidden><div class=\"sk-item\"><div class=\"sk-estimator sk-toggleable\"><input class=\"sk-toggleable__control sk-hidden--visually\" id=\"sk-estimator-id-3\" type=\"checkbox\" checked><label for=\"sk-estimator-id-3\" class=\"sk-toggleable__label sk-toggleable__label-arrow\">SVR</label><div class=\"sk-toggleable__content\"><pre>SVR()</pre></div></div></div></div></div>"
            ]
          },
          "metadata": {},
          "execution_count": 44
        }
      ]
    },
    {
      "cell_type": "code",
      "source": [
        "pred=sreg.predict(X)\n",
        "from sklearn.metrics import r2_score,mean_squared_error"
      ],
      "metadata": {
        "id": "XDhTJopkVD1L"
      },
      "execution_count": null,
      "outputs": []
    },
    {
      "cell_type": "code",
      "source": [
        "score=r2_score(y,pred)\n",
        "rmse=np.sqrt(mean_squared_error(y,pred))\n",
        "score"
      ],
      "metadata": {
        "colab": {
          "base_uri": "https://localhost:8080/"
        },
        "id": "erpzeRq3VD3e",
        "outputId": "2750d590-7d14-4fb0-b4b2-4df469784a7a"
      },
      "execution_count": null,
      "outputs": [
        {
          "output_type": "execute_result",
          "data": {
            "text/plain": [
              "0.4369980466621587"
            ]
          },
          "metadata": {},
          "execution_count": 46
        }
      ]
    },
    {
      "cell_type": "code",
      "source": [
        "rmse"
      ],
      "metadata": {
        "colab": {
          "base_uri": "https://localhost:8080/"
        },
        "id": "N6qfav4TWL_I",
        "outputId": "e76478c3-bf2d-4483-c39a-1d442f30382f"
      },
      "execution_count": null,
      "outputs": [
        {
          "output_type": "execute_result",
          "data": {
            "text/plain": [
              "0.7503345609378801"
            ]
          },
          "metadata": {},
          "execution_count": 47
        }
      ]
    },
    {
      "cell_type": "markdown",
      "source": [
        "# Comparing regression errors\n",
        "1.MULTIPLE REGRESSION-0.344\n",
        "\n",
        "2.POLYNOMIAL REGRESSION-0.0001\n",
        "\n",
        "3.DECISION TREE-0.416\n",
        "\n",
        "4.RANDOM FOREST-0.289\n",
        "\n",
        "5.SUPPORT VECTOR-0.750\n",
        "\n",
        "\n",
        "#Therefore,polynomial regression having least error is considered best"
      ],
      "metadata": {
        "id": "ll581_Apc-BB"
      }
    },
    {
      "cell_type": "markdown",
      "source": [
        "#CLASSIFICATION"
      ],
      "metadata": {
        "id": "UoY3hOroXHxF"
      }
    },
    {
      "cell_type": "markdown",
      "source": [
        "1.logistic regression"
      ],
      "metadata": {
        "id": "PPnzC1HXXLqI"
      }
    },
    {
      "cell_type": "code",
      "source": [
        "import pandas as pd\n",
        "import numpy as np\n",
        "import matplotlib.pyplot as plt"
      ],
      "metadata": {
        "id": "voZn8FPTX4vf"
      },
      "execution_count": null,
      "outputs": []
    },
    {
      "cell_type": "code",
      "source": [
        "data=pd.read_csv('/content/cost-of-living.csv')\n",
        "data=data.fillna(value=0)"
      ],
      "metadata": {
        "id": "1QJt7H4aX4zZ"
      },
      "execution_count": null,
      "outputs": []
    },
    {
      "cell_type": "code",
      "source": [
        "X=data.iloc[:,3:-1].values\n",
        "y=data.iloc[:,-1].values"
      ],
      "metadata": {
        "id": "3dHf3b53X43J"
      },
      "execution_count": null,
      "outputs": []
    },
    {
      "cell_type": "code",
      "source": [
        "from sklearn.model_selection import train_test_split\n",
        "xtrain,xtest,ytrain,ytest=train_test_split(X,y,test_size=0.2)"
      ],
      "metadata": {
        "id": "iHaLWEMvZFwK"
      },
      "execution_count": null,
      "outputs": []
    },
    {
      "cell_type": "code",
      "source": [
        "from sklearn.preprocessing import StandardScaler\n",
        "sc=StandardScaler()\n",
        "xtrain=sc.fit_transform(xtrain)\n",
        "xtest=sc.transform(xtest)"
      ],
      "metadata": {
        "id": "XFycA5FXX5AJ"
      },
      "execution_count": null,
      "outputs": []
    },
    {
      "cell_type": "code",
      "source": [
        "from sklearn.linear_model import LogisticRegression\n",
        "lr=LogisticRegression()\n",
        "lr.fit(xtrain,ytrain)"
      ],
      "metadata": {
        "colab": {
          "base_uri": "https://localhost:8080/",
          "height": 74
        },
        "id": "RcQFbKamZKaj",
        "outputId": "e4ac24c4-6339-42c5-bc5c-2bee234a73b6"
      },
      "execution_count": null,
      "outputs": [
        {
          "output_type": "execute_result",
          "data": {
            "text/plain": [
              "LogisticRegression()"
            ],
            "text/html": [
              "<style>#sk-container-id-4 {color: black;background-color: white;}#sk-container-id-4 pre{padding: 0;}#sk-container-id-4 div.sk-toggleable {background-color: white;}#sk-container-id-4 label.sk-toggleable__label {cursor: pointer;display: block;width: 100%;margin-bottom: 0;padding: 0.3em;box-sizing: border-box;text-align: center;}#sk-container-id-4 label.sk-toggleable__label-arrow:before {content: \"▸\";float: left;margin-right: 0.25em;color: #696969;}#sk-container-id-4 label.sk-toggleable__label-arrow:hover:before {color: black;}#sk-container-id-4 div.sk-estimator:hover label.sk-toggleable__label-arrow:before {color: black;}#sk-container-id-4 div.sk-toggleable__content {max-height: 0;max-width: 0;overflow: hidden;text-align: left;background-color: #f0f8ff;}#sk-container-id-4 div.sk-toggleable__content pre {margin: 0.2em;color: black;border-radius: 0.25em;background-color: #f0f8ff;}#sk-container-id-4 input.sk-toggleable__control:checked~div.sk-toggleable__content {max-height: 200px;max-width: 100%;overflow: auto;}#sk-container-id-4 input.sk-toggleable__control:checked~label.sk-toggleable__label-arrow:before {content: \"▾\";}#sk-container-id-4 div.sk-estimator input.sk-toggleable__control:checked~label.sk-toggleable__label {background-color: #d4ebff;}#sk-container-id-4 div.sk-label input.sk-toggleable__control:checked~label.sk-toggleable__label {background-color: #d4ebff;}#sk-container-id-4 input.sk-hidden--visually {border: 0;clip: rect(1px 1px 1px 1px);clip: rect(1px, 1px, 1px, 1px);height: 1px;margin: -1px;overflow: hidden;padding: 0;position: absolute;width: 1px;}#sk-container-id-4 div.sk-estimator {font-family: monospace;background-color: #f0f8ff;border: 1px dotted black;border-radius: 0.25em;box-sizing: border-box;margin-bottom: 0.5em;}#sk-container-id-4 div.sk-estimator:hover {background-color: #d4ebff;}#sk-container-id-4 div.sk-parallel-item::after {content: \"\";width: 100%;border-bottom: 1px solid gray;flex-grow: 1;}#sk-container-id-4 div.sk-label:hover label.sk-toggleable__label {background-color: #d4ebff;}#sk-container-id-4 div.sk-serial::before {content: \"\";position: absolute;border-left: 1px solid gray;box-sizing: border-box;top: 0;bottom: 0;left: 50%;z-index: 0;}#sk-container-id-4 div.sk-serial {display: flex;flex-direction: column;align-items: center;background-color: white;padding-right: 0.2em;padding-left: 0.2em;position: relative;}#sk-container-id-4 div.sk-item {position: relative;z-index: 1;}#sk-container-id-4 div.sk-parallel {display: flex;align-items: stretch;justify-content: center;background-color: white;position: relative;}#sk-container-id-4 div.sk-item::before, #sk-container-id-4 div.sk-parallel-item::before {content: \"\";position: absolute;border-left: 1px solid gray;box-sizing: border-box;top: 0;bottom: 0;left: 50%;z-index: -1;}#sk-container-id-4 div.sk-parallel-item {display: flex;flex-direction: column;z-index: 1;position: relative;background-color: white;}#sk-container-id-4 div.sk-parallel-item:first-child::after {align-self: flex-end;width: 50%;}#sk-container-id-4 div.sk-parallel-item:last-child::after {align-self: flex-start;width: 50%;}#sk-container-id-4 div.sk-parallel-item:only-child::after {width: 0;}#sk-container-id-4 div.sk-dashed-wrapped {border: 1px dashed gray;margin: 0 0.4em 0.5em 0.4em;box-sizing: border-box;padding-bottom: 0.4em;background-color: white;}#sk-container-id-4 div.sk-label label {font-family: monospace;font-weight: bold;display: inline-block;line-height: 1.2em;}#sk-container-id-4 div.sk-label-container {text-align: center;}#sk-container-id-4 div.sk-container {/* jupyter's `normalize.less` sets `[hidden] { display: none; }` but bootstrap.min.css set `[hidden] { display: none !important; }` so we also need the `!important` here to be able to override the default hidden behavior on the sphinx rendered scikit-learn.org. See: https://github.com/scikit-learn/scikit-learn/issues/21755 */display: inline-block !important;position: relative;}#sk-container-id-4 div.sk-text-repr-fallback {display: none;}</style><div id=\"sk-container-id-4\" class=\"sk-top-container\"><div class=\"sk-text-repr-fallback\"><pre>LogisticRegression()</pre><b>In a Jupyter environment, please rerun this cell to show the HTML representation or trust the notebook. <br />On GitHub, the HTML representation is unable to render, please try loading this page with nbviewer.org.</b></div><div class=\"sk-container\" hidden><div class=\"sk-item\"><div class=\"sk-estimator sk-toggleable\"><input class=\"sk-toggleable__control sk-hidden--visually\" id=\"sk-estimator-id-4\" type=\"checkbox\" checked><label for=\"sk-estimator-id-4\" class=\"sk-toggleable__label sk-toggleable__label-arrow\">LogisticRegression</label><div class=\"sk-toggleable__content\"><pre>LogisticRegression()</pre></div></div></div></div></div>"
            ]
          },
          "metadata": {},
          "execution_count": 53
        }
      ]
    },
    {
      "cell_type": "code",
      "source": [
        "pred=lr.predict(xtest)"
      ],
      "metadata": {
        "id": "Ca120Do0ZKgh"
      },
      "execution_count": null,
      "outputs": []
    },
    {
      "cell_type": "code",
      "source": [
        "from sklearn.metrics import accuracy_score,confusion_matrix\n",
        "ac=accuracy_score(ytest,pred)\n",
        "ac"
      ],
      "metadata": {
        "colab": {
          "base_uri": "https://localhost:8080/"
        },
        "id": "lmzCEfZMZKox",
        "outputId": "cca24a0e-abdd-4b5f-f2a6-079523f5e8b7"
      },
      "execution_count": null,
      "outputs": [
        {
          "output_type": "execute_result",
          "data": {
            "text/plain": [
              "0.8317948717948718"
            ]
          },
          "metadata": {},
          "execution_count": 55
        }
      ]
    },
    {
      "cell_type": "code",
      "source": [
        "cm=confusion_matrix(ytest,pred)\n",
        "cm"
      ],
      "metadata": {
        "colab": {
          "base_uri": "https://localhost:8080/"
        },
        "id": "koIPfJtiZcW7",
        "outputId": "f333f546-360f-4bb8-afae-4cbe62e2ea45"
      },
      "execution_count": null,
      "outputs": [
        {
          "output_type": "execute_result",
          "data": {
            "text/plain": [
              "array([[749,  46],\n",
              "       [118,  62]])"
            ]
          },
          "metadata": {},
          "execution_count": 56
        }
      ]
    },
    {
      "cell_type": "markdown",
      "source": [
        "2.support vector kernel"
      ],
      "metadata": {
        "id": "LH4hx4DFaA28"
      }
    },
    {
      "cell_type": "code",
      "source": [
        "import pandas as pd\n",
        "import numpy as np\n",
        "import matplotlib.pyplot as plt"
      ],
      "metadata": {
        "id": "ctBCKPIGaKEO"
      },
      "execution_count": null,
      "outputs": []
    },
    {
      "cell_type": "code",
      "source": [
        "data=pd.read_csv('/content/cost-of-living.csv')\n",
        "data=data.fillna(value=0)"
      ],
      "metadata": {
        "id": "KrVqcpUXaKHj"
      },
      "execution_count": null,
      "outputs": []
    },
    {
      "cell_type": "code",
      "source": [
        "X=data.iloc[:,3:-1].values\n",
        "y=data.iloc[:,-1].values\n",
        "from sklearn.model_selection import train_test_split\n",
        "xtrain,xtest,ytrain,ytest=train_test_split(X,y,test_size=0.2)"
      ],
      "metadata": {
        "id": "waqKBX-naKKF"
      },
      "execution_count": null,
      "outputs": []
    },
    {
      "cell_type": "code",
      "source": [
        "from sklearn.preprocessing import StandardScaler\n",
        "sc=StandardScaler()\n",
        "xtrain=sc.fit_transform(xtrain)\n",
        "xtest=sc.transform(xtest)"
      ],
      "metadata": {
        "id": "6KD2vlgXanBf"
      },
      "execution_count": null,
      "outputs": []
    },
    {
      "cell_type": "code",
      "source": [
        "from sklearn.svm import SVC\n",
        "classifier=SVC(kernel='rbf')\n",
        "classifier.fit(xtrain,ytrain)\n",
        "pred=classifier.predict(xtest)"
      ],
      "metadata": {
        "id": "bFGZXiZzanFg"
      },
      "execution_count": null,
      "outputs": []
    },
    {
      "cell_type": "code",
      "source": [
        "from sklearn.metrics import accuracy_score,confusion_matrix\n",
        "ac=accuracy_score(ytest,pred)\n",
        "ac"
      ],
      "metadata": {
        "id": "tUCaUX-UanKr",
        "colab": {
          "base_uri": "https://localhost:8080/"
        },
        "outputId": "b10b0244-3e54-4e3c-cd96-a1241377e112"
      },
      "execution_count": null,
      "outputs": [
        {
          "output_type": "execute_result",
          "data": {
            "text/plain": [
              "0.8676923076923077"
            ]
          },
          "metadata": {},
          "execution_count": 62
        }
      ]
    },
    {
      "cell_type": "code",
      "source": [
        "cm=confusion_matrix(ytest,pred)\n",
        "cm"
      ],
      "metadata": {
        "id": "SDZj8GGianOA",
        "colab": {
          "base_uri": "https://localhost:8080/"
        },
        "outputId": "8f152387-5d7d-4f38-a5d7-887f0d4ebff0"
      },
      "execution_count": null,
      "outputs": [
        {
          "output_type": "execute_result",
          "data": {
            "text/plain": [
              "array([[772,  21],\n",
              "       [108,  74]])"
            ]
          },
          "metadata": {},
          "execution_count": 63
        }
      ]
    },
    {
      "cell_type": "markdown",
      "source": [
        "3.k nearest neighbours"
      ],
      "metadata": {
        "id": "nEhMAEFRa7KB"
      }
    },
    {
      "cell_type": "code",
      "source": [
        "import pandas as pd\n",
        "import numpy as np\n",
        "import matplotlib.pyplot as plt"
      ],
      "metadata": {
        "id": "VWZlL9KDbPUz"
      },
      "execution_count": null,
      "outputs": []
    },
    {
      "cell_type": "code",
      "source": [
        "data=pd.read_csv('/content/cost-of-living.csv')\n",
        "data=data.fillna(value=0)"
      ],
      "metadata": {
        "id": "9bMr5Ns-bPg1"
      },
      "execution_count": null,
      "outputs": []
    },
    {
      "cell_type": "code",
      "source": [
        "X=data.iloc[:,3:-1].values\n",
        "y=data.iloc[:,-1].values\n",
        "from sklearn.model_selection import train_test_split\n",
        "xtrain,xtest,ytrain,ytest=train_test_split(X,y,test_size=0.2)"
      ],
      "metadata": {
        "id": "0UogoStEbPlf"
      },
      "execution_count": null,
      "outputs": []
    },
    {
      "cell_type": "code",
      "source": [
        "from sklearn.preprocessing import StandardScaler\n",
        "sc=StandardScaler()\n",
        "xtrain=sc.fit_transform(xtrain)\n",
        "xtest=sc.transform(xtest)"
      ],
      "metadata": {
        "id": "S7Z9evDGbcPI"
      },
      "execution_count": null,
      "outputs": []
    },
    {
      "cell_type": "code",
      "source": [
        "from sklearn.neighbors import KNeighborsClassifier\n",
        "knr=KNeighborsClassifier(n_neighbors=3)\n",
        "knr.fit(xtrain,ytrain)\n",
        "pred=knr.predict(xtest)"
      ],
      "metadata": {
        "id": "3sDDPTk5bcT6"
      },
      "execution_count": null,
      "outputs": []
    },
    {
      "cell_type": "code",
      "source": [
        "from sklearn.metrics import accuracy_score,confusion_matrix\n",
        "ac=accuracy_score(ytest,pred)\n",
        "ac"
      ],
      "metadata": {
        "id": "wPpbSPx3bcZV",
        "colab": {
          "base_uri": "https://localhost:8080/"
        },
        "outputId": "dcf380e1-7bce-465a-da53-93ad9736b4ce"
      },
      "execution_count": null,
      "outputs": [
        {
          "output_type": "execute_result",
          "data": {
            "text/plain": [
              "0.7856410256410257"
            ]
          },
          "metadata": {},
          "execution_count": 69
        }
      ]
    },
    {
      "cell_type": "code",
      "source": [
        "cm=confusion_matrix(ytest,pred)\n",
        "cm"
      ],
      "metadata": {
        "id": "DL_luntwbmRB",
        "colab": {
          "base_uri": "https://localhost:8080/"
        },
        "outputId": "c1850758-996b-4b01-9e46-3887efe43291"
      },
      "execution_count": null,
      "outputs": [
        {
          "output_type": "execute_result",
          "data": {
            "text/plain": [
              "array([[629, 164],\n",
              "       [ 45, 137]])"
            ]
          },
          "metadata": {},
          "execution_count": 70
        }
      ]
    },
    {
      "cell_type": "markdown",
      "source": [
        "4.desision trees"
      ],
      "metadata": {
        "id": "n4CRgv7abwdp"
      }
    },
    {
      "cell_type": "code",
      "source": [
        "import pandas as pd\n",
        "import numpy as np\n",
        "import matplotlib.pyplot as plt"
      ],
      "metadata": {
        "id": "tdzy-fBYb24E"
      },
      "execution_count": null,
      "outputs": []
    },
    {
      "cell_type": "code",
      "source": [
        "data=pd.read_csv('/content/cost-of-living.csv')\n",
        "data=data.fillna(value=0)"
      ],
      "metadata": {
        "id": "bILBxPD6b28Y"
      },
      "execution_count": null,
      "outputs": []
    },
    {
      "cell_type": "code",
      "source": [
        "X=data.iloc[:,3:-1].values\n",
        "y=data.iloc[:,-1].values\n",
        "from sklearn.model_selection import train_test_split\n",
        "xtrain,xtest,ytrain,ytest=train_test_split(X,y,test_size=0.2)"
      ],
      "metadata": {
        "id": "f5yTpI4ab2_8"
      },
      "execution_count": null,
      "outputs": []
    },
    {
      "cell_type": "code",
      "source": [
        "from sklearn.preprocessing import StandardScaler\n",
        "sc=StandardScaler()\n",
        "xtrain=sc.fit_transform(xtrain)\n",
        "xtest=sc.transform(xtest)"
      ],
      "metadata": {
        "id": "cV-lnuJ5b3C3"
      },
      "execution_count": null,
      "outputs": []
    },
    {
      "cell_type": "code",
      "source": [
        "from sklearn.tree import DecisionTreeClassifier\n",
        "dtc=DecisionTreeClassifier()\n",
        "dtc.fit(xtrain,ytrain)\n",
        "pred=dtc.predict(xtest)"
      ],
      "metadata": {
        "id": "lsP5rsNrcCvg"
      },
      "execution_count": null,
      "outputs": []
    },
    {
      "cell_type": "code",
      "source": [
        "from sklearn.metrics import accuracy_score,confusion_matrix\n",
        "ac=accuracy_score(ytest,pred)\n",
        "ac"
      ],
      "metadata": {
        "id": "8N6YMgLlcC4W",
        "colab": {
          "base_uri": "https://localhost:8080/"
        },
        "outputId": "1d4d6072-fa63-4888-93d1-008b2e9c6611"
      },
      "execution_count": null,
      "outputs": [
        {
          "output_type": "execute_result",
          "data": {
            "text/plain": [
              "0.8512820512820513"
            ]
          },
          "metadata": {},
          "execution_count": 76
        }
      ]
    },
    {
      "cell_type": "code",
      "source": [
        "cm=confusion_matrix(ytest,pred)\n",
        "cm"
      ],
      "metadata": {
        "id": "NIA8DqO0cOHI",
        "colab": {
          "base_uri": "https://localhost:8080/"
        },
        "outputId": "8aef6309-46ab-4de3-f9ea-8a82ebee5574"
      },
      "execution_count": null,
      "outputs": [
        {
          "output_type": "execute_result",
          "data": {
            "text/plain": [
              "array([[727,  78],\n",
              "       [ 67, 103]])"
            ]
          },
          "metadata": {},
          "execution_count": 77
        }
      ]
    },
    {
      "cell_type": "markdown",
      "source": [
        "5. random forest"
      ],
      "metadata": {
        "id": "ZFtpHx6QcW9F"
      }
    },
    {
      "cell_type": "code",
      "source": [
        "import pandas as pd\n",
        "import numpy as np\n",
        "import matplotlib.pyplot as plt"
      ],
      "metadata": {
        "id": "2GIxLHALcZ32"
      },
      "execution_count": null,
      "outputs": []
    },
    {
      "cell_type": "code",
      "source": [
        "data=pd.read_csv('/content/cost-of-living.csv')\n",
        "data=data.fillna(value=0)"
      ],
      "metadata": {
        "id": "k6R1MaM2cZ7U"
      },
      "execution_count": null,
      "outputs": []
    },
    {
      "cell_type": "code",
      "source": [
        "X=data.iloc[:,3:-1].values\n",
        "y=data.iloc[:,-1].values\n",
        "from sklearn.model_selection import train_test_split\n",
        "xtrain,xtest,ytrain,ytest=train_test_split(X,y,test_size=0.2)"
      ],
      "metadata": {
        "id": "YWPLOL2ecZ_L"
      },
      "execution_count": null,
      "outputs": []
    },
    {
      "cell_type": "code",
      "source": [
        "from sklearn.preprocessing import StandardScaler\n",
        "sc=StandardScaler()\n",
        "xtrain=sc.fit_transform(xtrain)\n",
        "xtest=sc.transform(xtest)"
      ],
      "metadata": {
        "id": "lXVpm2JhcaGx"
      },
      "execution_count": null,
      "outputs": []
    },
    {
      "cell_type": "code",
      "source": [
        "from sklearn.ensemble import RandomForestClassifier\n",
        "rc=RandomForestClassifier()\n",
        "rc.fit(xtrain,ytrain)"
      ],
      "metadata": {
        "id": "FBXefjKRcjWp",
        "colab": {
          "base_uri": "https://localhost:8080/",
          "height": 74
        },
        "outputId": "bb02802a-b0d3-41a6-bb8d-5d0c17d60378"
      },
      "execution_count": null,
      "outputs": [
        {
          "output_type": "execute_result",
          "data": {
            "text/plain": [
              "RandomForestClassifier()"
            ],
            "text/html": [
              "<style>#sk-container-id-5 {color: black;background-color: white;}#sk-container-id-5 pre{padding: 0;}#sk-container-id-5 div.sk-toggleable {background-color: white;}#sk-container-id-5 label.sk-toggleable__label {cursor: pointer;display: block;width: 100%;margin-bottom: 0;padding: 0.3em;box-sizing: border-box;text-align: center;}#sk-container-id-5 label.sk-toggleable__label-arrow:before {content: \"▸\";float: left;margin-right: 0.25em;color: #696969;}#sk-container-id-5 label.sk-toggleable__label-arrow:hover:before {color: black;}#sk-container-id-5 div.sk-estimator:hover label.sk-toggleable__label-arrow:before {color: black;}#sk-container-id-5 div.sk-toggleable__content {max-height: 0;max-width: 0;overflow: hidden;text-align: left;background-color: #f0f8ff;}#sk-container-id-5 div.sk-toggleable__content pre {margin: 0.2em;color: black;border-radius: 0.25em;background-color: #f0f8ff;}#sk-container-id-5 input.sk-toggleable__control:checked~div.sk-toggleable__content {max-height: 200px;max-width: 100%;overflow: auto;}#sk-container-id-5 input.sk-toggleable__control:checked~label.sk-toggleable__label-arrow:before {content: \"▾\";}#sk-container-id-5 div.sk-estimator input.sk-toggleable__control:checked~label.sk-toggleable__label {background-color: #d4ebff;}#sk-container-id-5 div.sk-label input.sk-toggleable__control:checked~label.sk-toggleable__label {background-color: #d4ebff;}#sk-container-id-5 input.sk-hidden--visually {border: 0;clip: rect(1px 1px 1px 1px);clip: rect(1px, 1px, 1px, 1px);height: 1px;margin: -1px;overflow: hidden;padding: 0;position: absolute;width: 1px;}#sk-container-id-5 div.sk-estimator {font-family: monospace;background-color: #f0f8ff;border: 1px dotted black;border-radius: 0.25em;box-sizing: border-box;margin-bottom: 0.5em;}#sk-container-id-5 div.sk-estimator:hover {background-color: #d4ebff;}#sk-container-id-5 div.sk-parallel-item::after {content: \"\";width: 100%;border-bottom: 1px solid gray;flex-grow: 1;}#sk-container-id-5 div.sk-label:hover label.sk-toggleable__label {background-color: #d4ebff;}#sk-container-id-5 div.sk-serial::before {content: \"\";position: absolute;border-left: 1px solid gray;box-sizing: border-box;top: 0;bottom: 0;left: 50%;z-index: 0;}#sk-container-id-5 div.sk-serial {display: flex;flex-direction: column;align-items: center;background-color: white;padding-right: 0.2em;padding-left: 0.2em;position: relative;}#sk-container-id-5 div.sk-item {position: relative;z-index: 1;}#sk-container-id-5 div.sk-parallel {display: flex;align-items: stretch;justify-content: center;background-color: white;position: relative;}#sk-container-id-5 div.sk-item::before, #sk-container-id-5 div.sk-parallel-item::before {content: \"\";position: absolute;border-left: 1px solid gray;box-sizing: border-box;top: 0;bottom: 0;left: 50%;z-index: -1;}#sk-container-id-5 div.sk-parallel-item {display: flex;flex-direction: column;z-index: 1;position: relative;background-color: white;}#sk-container-id-5 div.sk-parallel-item:first-child::after {align-self: flex-end;width: 50%;}#sk-container-id-5 div.sk-parallel-item:last-child::after {align-self: flex-start;width: 50%;}#sk-container-id-5 div.sk-parallel-item:only-child::after {width: 0;}#sk-container-id-5 div.sk-dashed-wrapped {border: 1px dashed gray;margin: 0 0.4em 0.5em 0.4em;box-sizing: border-box;padding-bottom: 0.4em;background-color: white;}#sk-container-id-5 div.sk-label label {font-family: monospace;font-weight: bold;display: inline-block;line-height: 1.2em;}#sk-container-id-5 div.sk-label-container {text-align: center;}#sk-container-id-5 div.sk-container {/* jupyter's `normalize.less` sets `[hidden] { display: none; }` but bootstrap.min.css set `[hidden] { display: none !important; }` so we also need the `!important` here to be able to override the default hidden behavior on the sphinx rendered scikit-learn.org. See: https://github.com/scikit-learn/scikit-learn/issues/21755 */display: inline-block !important;position: relative;}#sk-container-id-5 div.sk-text-repr-fallback {display: none;}</style><div id=\"sk-container-id-5\" class=\"sk-top-container\"><div class=\"sk-text-repr-fallback\"><pre>RandomForestClassifier()</pre><b>In a Jupyter environment, please rerun this cell to show the HTML representation or trust the notebook. <br />On GitHub, the HTML representation is unable to render, please try loading this page with nbviewer.org.</b></div><div class=\"sk-container\" hidden><div class=\"sk-item\"><div class=\"sk-estimator sk-toggleable\"><input class=\"sk-toggleable__control sk-hidden--visually\" id=\"sk-estimator-id-5\" type=\"checkbox\" checked><label for=\"sk-estimator-id-5\" class=\"sk-toggleable__label sk-toggleable__label-arrow\">RandomForestClassifier</label><div class=\"sk-toggleable__content\"><pre>RandomForestClassifier()</pre></div></div></div></div></div>"
            ]
          },
          "metadata": {},
          "execution_count": 82
        }
      ]
    },
    {
      "cell_type": "code",
      "source": [
        "pred=rc.predict(xtest)\n",
        "from sklearn.metrics import accuracy_score,confusion_matrix\n",
        "ac=accuracy_score(ytest,pred)\n",
        "ac"
      ],
      "metadata": {
        "id": "0XhhAi_6cjjc",
        "colab": {
          "base_uri": "https://localhost:8080/"
        },
        "outputId": "b23a3cf1-5f96-4a51-a2b8-35872c6bd848"
      },
      "execution_count": null,
      "outputs": [
        {
          "output_type": "execute_result",
          "data": {
            "text/plain": [
              "0.8912820512820513"
            ]
          },
          "metadata": {},
          "execution_count": 83
        }
      ]
    },
    {
      "cell_type": "code",
      "source": [
        "cm=confusion_matrix(ytest,pred)\n",
        "cm"
      ],
      "metadata": {
        "id": "QYSFE4l3cjs9",
        "colab": {
          "base_uri": "https://localhost:8080/"
        },
        "outputId": "0717196f-33ef-4426-e647-ecd8c7023703"
      },
      "execution_count": null,
      "outputs": [
        {
          "output_type": "execute_result",
          "data": {
            "text/plain": [
              "array([[749,  35],\n",
              "       [ 71, 120]])"
            ]
          },
          "metadata": {},
          "execution_count": 84
        }
      ]
    },
    {
      "cell_type": "markdown",
      "source": [
        "# Comparing classifiers Accuracy\n",
        "1.logistic regression-81%\n",
        "\n",
        "2.support vector-88%\n",
        "\n",
        "3.K nieghbour classifier-78%\n",
        "\n",
        "4.decision tree-84%\n",
        "\n",
        "5.random forest-89%\n",
        "\n",
        "#Therefore,random forest having highest accuracy is considered the best."
      ],
      "metadata": {
        "id": "2AxHpR8ZeWOl"
      }
    }
  ]
}